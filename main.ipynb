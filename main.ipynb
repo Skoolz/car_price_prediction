{
 "cells": [
  {
   "attachments": {},
   "cell_type": "markdown",
   "metadata": {},
   "source": [
    "# Стоимость поддержанного автомобиля\n",
    "\n",
    "**Предсказание стоимости автомобиля на вторичном рынке**"
   ]
  },
  {
   "attachments": {},
   "cell_type": "markdown",
   "metadata": {},
   "source": [
    "## Описание"
   ]
  },
  {
   "attachments": {},
   "cell_type": "markdown",
   "metadata": {},
   "source": [
    "Многие знают про маркетплейсы где продаются б/у вещи, на которых есть возможность недорого купить качественную и полезную вещь. Но всегда волнует вопрос - кто и как устанавливает цену, и какие его характеристики больше всего влияют на итоговую стоимость продажи?! Вопрос становиться особо актуальным, если речь идет про дорогие товары, например про автомобили!"
   ]
  },
  {
   "attachments": {},
   "cell_type": "markdown",
   "metadata": {},
   "source": [
    "### Исходные данные"
   ]
  },
  {
   "attachments": {},
   "cell_type": "markdown",
   "metadata": {},
   "source": [
    "Date: Год выпуска автомобиля.<br/>\n",
    "Make: Марка автомобиля.<br/>\n",
    "Model: издание автомобиля определенной марки.<br/>\n",
    "Trim: Уровни отделки салона автомобиля — это просто разные версии модели.<br/>\n",
    "Body: Тип кузова транспортного средства относится к форме и модели конкретной марки автомобиля.<br/>\n",
    "Transmission: механизм, который передает мощность от двигателя к колесам.<br/>\n",
    "VIN: идентификационный номер транспортного средства.<br/>\n",
    "State: штат регистрации автомобиля.<br/>\n",
    "Condition: Состояние автомобилей на момент аукциона.<br/>\n",
    "Odometer: расстояние, пройденное автомобилем с момента выпуска.<br/>\n",
    "Color: Цвет кузова автомобиля.<br/>\n",
    "Interior: Цвет салона автомобиля.<br/>\n",
    "Seller: Продавец автомобиля, автосалоны.<br/>\n",
    "sellingprice: цена, по которой автомобиль был продан на аукционе.<br/>\n",
    "saledate: Дата продажи автомобиля.<br/>"
   ]
  },
  {
   "attachments": {},
   "cell_type": "markdown",
   "metadata": {},
   "source": [
    "## Загрузка библиотек"
   ]
  },
  {
   "cell_type": "code",
   "execution_count": 1,
   "metadata": {},
   "outputs": [],
   "source": [
    "import pandas as pd\n",
    "from matplotlib import pyplot as plt\n",
    "from ydata_profiling import ProfileReport"
   ]
  },
  {
   "cell_type": "code",
   "execution_count": 2,
   "metadata": {},
   "outputs": [],
   "source": [
    "from sklearn.ensemble import RandomForestRegressor\n",
    "from sklearn.metrics import mean_absolute_error\n",
    "from sklearn.metrics import mean_absolute_percentage_error\n",
    "from sklearn.metrics import r2_score\n",
    "from sklearn.model_selection import train_test_split\n",
    "from sklearn.pipeline import Pipeline\n",
    "from sklearn import preprocessing\n",
    "from sklearn.compose import ColumnTransformer\n",
    "from sklearn.linear_model import Lasso\n",
    "from sklearn.linear_model import Ridge\n",
    "from sklearn.linear_model import LinearRegression\n",
    "from sklearn.model_selection import GridSearchCV\n",
    "from sklearn.tree import DecisionTreeRegressor\n",
    "import numpy as np\n",
    "import seaborn as sns\n",
    "from scipy import stats\n",
    "%matplotlib inline"
   ]
  },
  {
   "cell_type": "code",
   "execution_count": 3,
   "metadata": {},
   "outputs": [],
   "source": [
    "import warnings\n",
    "warnings.filterwarnings('ignore')"
   ]
  },
  {
   "attachments": {},
   "cell_type": "markdown",
   "metadata": {},
   "source": [
    "## EDA"
   ]
  },
  {
   "cell_type": "code",
   "execution_count": 4,
   "metadata": {},
   "outputs": [],
   "source": [
    "df = pd.read_csv('train.csv')"
   ]
  },
  {
   "cell_type": "code",
   "execution_count": 5,
   "metadata": {},
   "outputs": [
    {
     "name": "stdout",
     "output_type": "stream",
     "text": [
      "<class 'pandas.core.frame.DataFrame'>\n",
      "RangeIndex: 440236 entries, 0 to 440235\n",
      "Data columns (total 15 columns):\n",
      " #   Column        Non-Null Count   Dtype  \n",
      "---  ------        --------------   -----  \n",
      " 0   year          440236 non-null  int64  \n",
      " 1   make          432193 non-null  object \n",
      " 2   model         432113 non-null  object \n",
      " 3   trim          431899 non-null  object \n",
      " 4   body          429843 non-null  object \n",
      " 5   transmission  388775 non-null  object \n",
      " 6   vin           440236 non-null  object \n",
      " 7   state         440236 non-null  object \n",
      " 8   condition     430831 non-null  float64\n",
      " 9   odometer      440167 non-null  float64\n",
      " 10  color         439650 non-null  object \n",
      " 11  interior      439650 non-null  object \n",
      " 12  seller        440236 non-null  object \n",
      " 13  sellingprice  440236 non-null  int64  \n",
      " 14  saledate      440236 non-null  object \n",
      "dtypes: float64(2), int64(2), object(11)\n",
      "memory usage: 50.4+ MB\n"
     ]
    }
   ],
   "source": [
    "df.info()"
   ]
  },
  {
   "attachments": {},
   "cell_type": "markdown",
   "metadata": {},
   "source": [
    "Доля объектов с пропуском как минимум в одном признаке - 11,6%"
   ]
  },
  {
   "cell_type": "code",
   "execution_count": 6,
   "metadata": {},
   "outputs": [
    {
     "data": {
      "text/html": [
       "<div>\n",
       "<style scoped>\n",
       "    .dataframe tbody tr th:only-of-type {\n",
       "        vertical-align: middle;\n",
       "    }\n",
       "\n",
       "    .dataframe tbody tr th {\n",
       "        vertical-align: top;\n",
       "    }\n",
       "\n",
       "    .dataframe thead th {\n",
       "        text-align: right;\n",
       "    }\n",
       "</style>\n",
       "<table border=\"1\" class=\"dataframe\">\n",
       "  <thead>\n",
       "    <tr style=\"text-align: right;\">\n",
       "      <th></th>\n",
       "      <th>year</th>\n",
       "      <th>condition</th>\n",
       "      <th>odometer</th>\n",
       "      <th>sellingprice</th>\n",
       "    </tr>\n",
       "  </thead>\n",
       "  <tbody>\n",
       "    <tr>\n",
       "      <th>count</th>\n",
       "      <td>440236.000000</td>\n",
       "      <td>430831.000000</td>\n",
       "      <td>440167.000000</td>\n",
       "      <td>440236.000000</td>\n",
       "    </tr>\n",
       "    <tr>\n",
       "      <th>mean</th>\n",
       "      <td>2010.040101</td>\n",
       "      <td>3.425077</td>\n",
       "      <td>68344.421604</td>\n",
       "      <td>13592.209588</td>\n",
       "    </tr>\n",
       "    <tr>\n",
       "      <th>std</th>\n",
       "      <td>3.977945</td>\n",
       "      <td>0.949973</td>\n",
       "      <td>53542.203908</td>\n",
       "      <td>9751.479098</td>\n",
       "    </tr>\n",
       "    <tr>\n",
       "      <th>min</th>\n",
       "      <td>1982.000000</td>\n",
       "      <td>1.000000</td>\n",
       "      <td>1.000000</td>\n",
       "      <td>1.000000</td>\n",
       "    </tr>\n",
       "    <tr>\n",
       "      <th>25%</th>\n",
       "      <td>2007.000000</td>\n",
       "      <td>2.700000</td>\n",
       "      <td>28258.000000</td>\n",
       "      <td>6900.000000</td>\n",
       "    </tr>\n",
       "    <tr>\n",
       "      <th>50%</th>\n",
       "      <td>2012.000000</td>\n",
       "      <td>3.600000</td>\n",
       "      <td>52098.000000</td>\n",
       "      <td>12100.000000</td>\n",
       "    </tr>\n",
       "    <tr>\n",
       "      <th>75%</th>\n",
       "      <td>2013.000000</td>\n",
       "      <td>4.200000</td>\n",
       "      <td>99272.000000</td>\n",
       "      <td>18200.000000</td>\n",
       "    </tr>\n",
       "    <tr>\n",
       "      <th>max</th>\n",
       "      <td>2015.000000</td>\n",
       "      <td>5.000000</td>\n",
       "      <td>999999.000000</td>\n",
       "      <td>230000.000000</td>\n",
       "    </tr>\n",
       "  </tbody>\n",
       "</table>\n",
       "</div>"
      ],
      "text/plain": [
       "                year      condition       odometer   sellingprice\n",
       "count  440236.000000  430831.000000  440167.000000  440236.000000\n",
       "mean     2010.040101       3.425077   68344.421604   13592.209588\n",
       "std         3.977945       0.949973   53542.203908    9751.479098\n",
       "min      1982.000000       1.000000       1.000000       1.000000\n",
       "25%      2007.000000       2.700000   28258.000000    6900.000000\n",
       "50%      2012.000000       3.600000   52098.000000   12100.000000\n",
       "75%      2013.000000       4.200000   99272.000000   18200.000000\n",
       "max      2015.000000       5.000000  999999.000000  230000.000000"
      ]
     },
     "execution_count": 6,
     "metadata": {},
     "output_type": "execute_result"
    }
   ],
   "source": [
    "df.describe()"
   ]
  },
  {
   "cell_type": "code",
   "execution_count": 7,
   "metadata": {},
   "outputs": [],
   "source": [
    "#ProfileReport(df)"
   ]
  },
  {
   "attachments": {},
   "cell_type": "markdown",
   "metadata": {},
   "source": [
    "### Предобработка данных"
   ]
  },
  {
   "attachments": {},
   "cell_type": "markdown",
   "metadata": {},
   "source": [
    "#### Количественные признаки\n",
    "\n",
    "В odometer и sellingprice присутствуют аномальные значения. Попробуем выяснить причину и обработать их"
   ]
  },
  {
   "cell_type": "code",
   "execution_count": 8,
   "metadata": {},
   "outputs": [
    {
     "data": {
      "text/plain": [
       "<AxesSubplot: >"
      ]
     },
     "execution_count": 8,
     "metadata": {},
     "output_type": "execute_result"
    },
    {
     "data": {
      "image/png": "[encoded data removed]",
      "text/plain": [
       "<Figure size 640x480 with 1 Axes>"
      ]
     },
     "metadata": {},
     "output_type": "display_data"
    }
   ],
   "source": [
    "df['odometer'].hist()"
   ]
  },
  {
   "cell_type": "code",
   "execution_count": 9,
   "metadata": {},
   "outputs": [
    {
     "data": {
      "text/plain": [
       "<AxesSubplot: >"
      ]
     },
     "execution_count": 9,
     "metadata": {},
     "output_type": "execute_result"
    },
    {
     "data": {
      "image/png": "[encoded data removed]",
      "text/plain": [
       "<Figure size 640x480 with 1 Axes>"
      ]
     },
     "metadata": {},
     "output_type": "display_data"
    }
   ],
   "source": [
    "df['odometer'].plot(kind='box')"
   ]
  },
  {
   "attachments": {},
   "cell_type": "markdown",
   "metadata": {},
   "source": [
    "Присутствует множество аномальных значений (больше 200 000 миль). Сравним объекты с odometer меньше 200 000 и больше 200 000"
   ]
  },
  {
   "cell_type": "code",
   "execution_count": 10,
   "metadata": {},
   "outputs": [
    {
     "data": {
      "text/html": [
       "<div>\n",
       "<style scoped>\n",
       "    .dataframe tbody tr th:only-of-type {\n",
       "        vertical-align: middle;\n",
       "    }\n",
       "\n",
       "    .dataframe tbody tr th {\n",
       "        vertical-align: top;\n",
       "    }\n",
       "\n",
       "    .dataframe thead tr th {\n",
       "        text-align: left;\n",
       "    }\n",
       "</style>\n",
       "<table border=\"1\" class=\"dataframe\">\n",
       "  <thead>\n",
       "    <tr>\n",
       "      <th></th>\n",
       "      <th colspan=\"2\" halign=\"left\">year</th>\n",
       "      <th colspan=\"2\" halign=\"left\">condition</th>\n",
       "      <th colspan=\"2\" halign=\"left\">odometer</th>\n",
       "      <th colspan=\"2\" halign=\"left\">sellingprice</th>\n",
       "    </tr>\n",
       "    <tr>\n",
       "      <th></th>\n",
       "      <th>self</th>\n",
       "      <th>other</th>\n",
       "      <th>self</th>\n",
       "      <th>other</th>\n",
       "      <th>self</th>\n",
       "      <th>other</th>\n",
       "      <th>self</th>\n",
       "      <th>other</th>\n",
       "    </tr>\n",
       "  </thead>\n",
       "  <tbody>\n",
       "    <tr>\n",
       "      <th>count</th>\n",
       "      <td>9698.000000</td>\n",
       "      <td>430469.000000</td>\n",
       "      <td>8999.000000</td>\n",
       "      <td>421812.000000</td>\n",
       "      <td>9698.000000</td>\n",
       "      <td>430469.000000</td>\n",
       "      <td>9698.000000</td>\n",
       "      <td>430469.000000</td>\n",
       "    </tr>\n",
       "    <tr>\n",
       "      <th>mean</th>\n",
       "      <td>2002.677665</td>\n",
       "      <td>2010.206951</td>\n",
       "      <td>2.275964</td>\n",
       "      <td>3.449633</td>\n",
       "      <td>238984.063931</td>\n",
       "      <td>64500.095412</td>\n",
       "      <td>2511.318313</td>\n",
       "      <td>13843.243425</td>\n",
       "    </tr>\n",
       "    <tr>\n",
       "      <th>std</th>\n",
       "      <td>3.831724</td>\n",
       "      <td>3.820226</td>\n",
       "      <td>0.698695</td>\n",
       "      <td>0.939400</td>\n",
       "      <td>68471.936288</td>\n",
       "      <td>46421.589879</td>\n",
       "      <td>2629.955026</td>\n",
       "      <td>9707.846609</td>\n",
       "    </tr>\n",
       "    <tr>\n",
       "      <th>min</th>\n",
       "      <td>1988.000000</td>\n",
       "      <td>1982.000000</td>\n",
       "      <td>NaN</td>\n",
       "      <td>NaN</td>\n",
       "      <td>200001.000000</td>\n",
       "      <td>1.000000</td>\n",
       "      <td>100.000000</td>\n",
       "      <td>1.000000</td>\n",
       "    </tr>\n",
       "    <tr>\n",
       "      <th>25%</th>\n",
       "      <td>2000.000000</td>\n",
       "      <td>2008.000000</td>\n",
       "      <td>1.900000</td>\n",
       "      <td>2.700000</td>\n",
       "      <td>209800.500000</td>\n",
       "      <td>27772.000000</td>\n",
       "      <td>800.000000</td>\n",
       "      <td>7300.000000</td>\n",
       "    </tr>\n",
       "    <tr>\n",
       "      <th>50%</th>\n",
       "      <td>2003.000000</td>\n",
       "      <td>2012.000000</td>\n",
       "      <td>2.000000</td>\n",
       "      <td>3.600000</td>\n",
       "      <td>223624.000000</td>\n",
       "      <td>50585.000000</td>\n",
       "      <td>1650.000000</td>\n",
       "      <td>12300.000000</td>\n",
       "    </tr>\n",
       "    <tr>\n",
       "      <th>75%</th>\n",
       "      <td>2005.000000</td>\n",
       "      <td>2013.000000</td>\n",
       "      <td>2.700000</td>\n",
       "      <td>4.200000</td>\n",
       "      <td>248280.500000</td>\n",
       "      <td>95828.000000</td>\n",
       "      <td>3200.000000</td>\n",
       "      <td>18400.000000</td>\n",
       "    </tr>\n",
       "    <tr>\n",
       "      <th>max</th>\n",
       "      <td>2014.000000</td>\n",
       "      <td>2015.000000</td>\n",
       "      <td>NaN</td>\n",
       "      <td>NaN</td>\n",
       "      <td>999999.000000</td>\n",
       "      <td>200000.000000</td>\n",
       "      <td>26800.000000</td>\n",
       "      <td>230000.000000</td>\n",
       "    </tr>\n",
       "  </tbody>\n",
       "</table>\n",
       "</div>"
      ],
      "text/plain": [
       "              year                   condition                      odometer  \\\n",
       "              self          other         self          other           self   \n",
       "count  9698.000000  430469.000000  8999.000000  421812.000000    9698.000000   \n",
       "mean   2002.677665    2010.206951     2.275964       3.449633  238984.063931   \n",
       "std       3.831724       3.820226     0.698695       0.939400   68471.936288   \n",
       "min    1988.000000    1982.000000          NaN            NaN  200001.000000   \n",
       "25%    2000.000000    2008.000000     1.900000       2.700000  209800.500000   \n",
       "50%    2003.000000    2012.000000     2.000000       3.600000  223624.000000   \n",
       "75%    2005.000000    2013.000000     2.700000       4.200000  248280.500000   \n",
       "max    2014.000000    2015.000000          NaN            NaN  999999.000000   \n",
       "\n",
       "                      sellingprice                 \n",
       "               other          self          other  \n",
       "count  430469.000000   9698.000000  430469.000000  \n",
       "mean    64500.095412   2511.318313   13843.243425  \n",
       "std     46421.589879   2629.955026    9707.846609  \n",
       "min         1.000000    100.000000       1.000000  \n",
       "25%     27772.000000    800.000000    7300.000000  \n",
       "50%     50585.000000   1650.000000   12300.000000  \n",
       "75%     95828.000000   3200.000000   18400.000000  \n",
       "max    200000.000000  26800.000000  230000.000000  "
      ]
     },
     "execution_count": 10,
     "metadata": {},
     "output_type": "execute_result"
    }
   ],
   "source": [
    "df.query('odometer > 200_000').describe().compare(df.query('odometer<=200_000').describe())"
   ]
  },
  {
   "cell_type": "code",
   "execution_count": 11,
   "metadata": {},
   "outputs": [
    {
     "data": {
      "image/png": "[encoded data removed]",
      "text/plain": [
       "<Figure size 640x480 with 1 Axes>"
      ]
     },
     "metadata": {},
     "output_type": "display_data"
    }
   ],
   "source": [
    "sns.scatterplot(x=df['odometer'],y=df['sellingprice']).set(title='Распределение цены и расстояния');"
   ]
  },
  {
   "attachments": {},
   "cell_type": "markdown",
   "metadata": {},
   "source": [
    "Посмотрим на объекты, которые не лежат в области с большинством (odometer>600_000). Также стоит посмотреть на объект с целевым признаком больше 200_000"
   ]
  },
  {
   "cell_type": "code",
   "execution_count": 12,
   "metadata": {},
   "outputs": [
    {
     "data": {
      "text/html": [
       "<div>\n",
       "<style scoped>\n",
       "    .dataframe tbody tr th:only-of-type {\n",
       "        vertical-align: middle;\n",
       "    }\n",
       "\n",
       "    .dataframe tbody tr th {\n",
       "        vertical-align: top;\n",
       "    }\n",
       "\n",
       "    .dataframe thead th {\n",
       "        text-align: right;\n",
       "    }\n",
       "</style>\n",
       "<table border=\"1\" class=\"dataframe\">\n",
       "  <thead>\n",
       "    <tr style=\"text-align: right;\">\n",
       "      <th></th>\n",
       "      <th>year</th>\n",
       "      <th>make</th>\n",
       "      <th>model</th>\n",
       "      <th>trim</th>\n",
       "      <th>body</th>\n",
       "      <th>transmission</th>\n",
       "      <th>vin</th>\n",
       "      <th>state</th>\n",
       "      <th>condition</th>\n",
       "      <th>odometer</th>\n",
       "      <th>color</th>\n",
       "      <th>interior</th>\n",
       "      <th>seller</th>\n",
       "      <th>sellingprice</th>\n",
       "      <th>saledate</th>\n",
       "    </tr>\n",
       "  </thead>\n",
       "  <tbody>\n",
       "    <tr>\n",
       "      <th>6069</th>\n",
       "      <td>2012</td>\n",
       "      <td>Hyundai</td>\n",
       "      <td>Sonata</td>\n",
       "      <td>GLS</td>\n",
       "      <td>Sedan</td>\n",
       "      <td>automatic</td>\n",
       "      <td>5npeb4ac6ch429831</td>\n",
       "      <td>oh</td>\n",
       "      <td>1.0</td>\n",
       "      <td>999999.0</td>\n",
       "      <td>white</td>\n",
       "      <td>gray</td>\n",
       "      <td>santander consumer</td>\n",
       "      <td>800</td>\n",
       "      <td>Tue Jan 06 2015 05:00:00 GMT-0800 (PST)</td>\n",
       "    </tr>\n",
       "    <tr>\n",
       "      <th>9830</th>\n",
       "      <td>2002</td>\n",
       "      <td>Saturn</td>\n",
       "      <td>VUE</td>\n",
       "      <td>Base</td>\n",
       "      <td>SUV</td>\n",
       "      <td>manual</td>\n",
       "      <td>5gzcz23d52s811182</td>\n",
       "      <td>md</td>\n",
       "      <td>4.7</td>\n",
       "      <td>694978.0</td>\n",
       "      <td>red</td>\n",
       "      <td>beige</td>\n",
       "      <td>autonation chevrolet timonium</td>\n",
       "      <td>1000</td>\n",
       "      <td>Tue Feb 10 2015 01:30:00 GMT-0800 (PST)</td>\n",
       "    </tr>\n",
       "    <tr>\n",
       "      <th>11122</th>\n",
       "      <td>2004</td>\n",
       "      <td>Chevrolet</td>\n",
       "      <td>Tahoe</td>\n",
       "      <td>LS</td>\n",
       "      <td>SUV</td>\n",
       "      <td>automatic</td>\n",
       "      <td>1gnec13v34j247109</td>\n",
       "      <td>ga</td>\n",
       "      <td>1.9</td>\n",
       "      <td>999999.0</td>\n",
       "      <td>black</td>\n",
       "      <td>tan</td>\n",
       "      <td>santander consumer</td>\n",
       "      <td>1800</td>\n",
       "      <td>Tue Jan 06 2015 01:30:00 GMT-0800 (PST)</td>\n",
       "    </tr>\n",
       "    <tr>\n",
       "      <th>12368</th>\n",
       "      <td>2006</td>\n",
       "      <td>Mazda</td>\n",
       "      <td>Tribute</td>\n",
       "      <td>i</td>\n",
       "      <td>SUV</td>\n",
       "      <td>automatic</td>\n",
       "      <td>4f2yz02z26km30632</td>\n",
       "      <td>fl</td>\n",
       "      <td>2.0</td>\n",
       "      <td>999999.0</td>\n",
       "      <td>white</td>\n",
       "      <td>tan</td>\n",
       "      <td>santander consumer</td>\n",
       "      <td>1200</td>\n",
       "      <td>Mon Feb 09 2015 01:30:00 GMT-0800 (PST)</td>\n",
       "    </tr>\n",
       "    <tr>\n",
       "      <th>14897</th>\n",
       "      <td>2006</td>\n",
       "      <td>Kia</td>\n",
       "      <td>Amanti</td>\n",
       "      <td>Base</td>\n",
       "      <td>Sedan</td>\n",
       "      <td>automatic</td>\n",
       "      <td>knald124265085150</td>\n",
       "      <td>ms</td>\n",
       "      <td>1.0</td>\n",
       "      <td>999999.0</td>\n",
       "      <td>gray</td>\n",
       "      <td>beige</td>\n",
       "      <td>fiserv/global lending services</td>\n",
       "      <td>800</td>\n",
       "      <td>Thu Dec 18 2014 12:02:00 GMT-0800 (PST)</td>\n",
       "    </tr>\n",
       "  </tbody>\n",
       "</table>\n",
       "</div>"
      ],
      "text/plain": [
       "       year       make    model  trim   body transmission                vin  \\\n",
       "6069   2012    Hyundai   Sonata   GLS  Sedan    automatic  5npeb4ac6ch429831   \n",
       "9830   2002     Saturn      VUE  Base    SUV       manual  5gzcz23d52s811182   \n",
       "11122  2004  Chevrolet    Tahoe    LS    SUV    automatic  1gnec13v34j247109   \n",
       "12368  2006      Mazda  Tribute     i    SUV    automatic  4f2yz02z26km30632   \n",
       "14897  2006        Kia   Amanti  Base  Sedan    automatic  knald124265085150   \n",
       "\n",
       "      state  condition  odometer  color interior  \\\n",
       "6069     oh        1.0  999999.0  white     gray   \n",
       "9830     md        4.7  694978.0    red    beige   \n",
       "11122    ga        1.9  999999.0  black      tan   \n",
       "12368    fl        2.0  999999.0  white      tan   \n",
       "14897    ms        1.0  999999.0   gray    beige   \n",
       "\n",
       "                               seller  sellingprice  \\\n",
       "6069               santander consumer           800   \n",
       "9830    autonation chevrolet timonium          1000   \n",
       "11122              santander consumer          1800   \n",
       "12368              santander consumer          1200   \n",
       "14897  fiserv/global lending services           800   \n",
       "\n",
       "                                      saledate  \n",
       "6069   Tue Jan 06 2015 05:00:00 GMT-0800 (PST)  \n",
       "9830   Tue Feb 10 2015 01:30:00 GMT-0800 (PST)  \n",
       "11122  Tue Jan 06 2015 01:30:00 GMT-0800 (PST)  \n",
       "12368  Mon Feb 09 2015 01:30:00 GMT-0800 (PST)  \n",
       "14897  Thu Dec 18 2014 12:02:00 GMT-0800 (PST)  "
      ]
     },
     "execution_count": 12,
     "metadata": {},
     "output_type": "execute_result"
    }
   ],
   "source": [
    "df.query('odometer>600_000').head(5)"
   ]
  },
  {
   "cell_type": "code",
   "execution_count": 13,
   "metadata": {},
   "outputs": [
    {
     "data": {
      "text/plain": [
       "59"
      ]
     },
     "execution_count": 13,
     "metadata": {},
     "output_type": "execute_result"
    }
   ],
   "source": [
    "len(df.query('odometer>600_000'))"
   ]
  },
  {
   "cell_type": "code",
   "execution_count": 14,
   "metadata": {},
   "outputs": [
    {
     "data": {
      "image/png": "[encoded data removed]",
      "text/plain": [
       "<Figure size 640x480 with 1 Axes>"
      ]
     },
     "metadata": {},
     "output_type": "display_data"
    }
   ],
   "source": [
    "sns.scatterplot(x=df['odometer'],y=df['sellingprice']).set(title='Распределение цены и расстояния');"
   ]
  },
  {
   "attachments": {},
   "cell_type": "markdown",
   "metadata": {},
   "source": [
    "Возможно значение 999999.0 подставляется в каких то случаях автоматически. Значение 694978.0 также выглядит аномальным. Но так как в общем таких значений очень мало, можно удалить их из датасета"
   ]
  },
  {
   "cell_type": "code",
   "execution_count": 15,
   "metadata": {},
   "outputs": [],
   "source": [
    "df = df.query('odometer<600_000')"
   ]
  },
  {
   "cell_type": "code",
   "execution_count": 16,
   "metadata": {},
   "outputs": [
    {
     "data": {
      "image/png": "[encoded data removed]",
      "text/plain": [
       "<Figure size 640x480 with 1 Axes>"
      ]
     },
     "metadata": {},
     "output_type": "display_data"
    }
   ],
   "source": [
    "sns.scatterplot(x=df['odometer'],y=df['sellingprice']).set(title='Распределение цены и расстояния');"
   ]
  },
  {
   "cell_type": "code",
   "execution_count": 17,
   "metadata": {},
   "outputs": [
    {
     "data": {
      "text/plain": [
       "<AxesSubplot: >"
      ]
     },
     "execution_count": 17,
     "metadata": {},
     "output_type": "execute_result"
    },
    {
     "data": {
      "image/png": "[encoded data removed]",
      "text/plain": [
       "<Figure size 640x480 with 1 Axes>"
      ]
     },
     "metadata": {},
     "output_type": "display_data"
    }
   ],
   "source": [
    "df['sellingprice'].plot(kind='box')"
   ]
  },
  {
   "attachments": {},
   "cell_type": "markdown",
   "metadata": {},
   "source": [
    "По boxplot можно сказать, что аномальных значений много, однако только одно сильно выделяется среди остальных. В первую очередь стоит обработать его"
   ]
  },
  {
   "cell_type": "code",
   "execution_count": 18,
   "metadata": {},
   "outputs": [
    {
     "data": {
      "text/html": [
       "<div>\n",
       "<style scoped>\n",
       "    .dataframe tbody tr th:only-of-type {\n",
       "        vertical-align: middle;\n",
       "    }\n",
       "\n",
       "    .dataframe tbody tr th {\n",
       "        vertical-align: top;\n",
       "    }\n",
       "\n",
       "    .dataframe thead th {\n",
       "        text-align: right;\n",
       "    }\n",
       "</style>\n",
       "<table border=\"1\" class=\"dataframe\">\n",
       "  <thead>\n",
       "    <tr style=\"text-align: right;\">\n",
       "      <th></th>\n",
       "      <th>year</th>\n",
       "      <th>make</th>\n",
       "      <th>model</th>\n",
       "      <th>trim</th>\n",
       "      <th>body</th>\n",
       "      <th>transmission</th>\n",
       "      <th>vin</th>\n",
       "      <th>state</th>\n",
       "      <th>condition</th>\n",
       "      <th>odometer</th>\n",
       "      <th>color</th>\n",
       "      <th>interior</th>\n",
       "      <th>seller</th>\n",
       "      <th>sellingprice</th>\n",
       "      <th>saledate</th>\n",
       "    </tr>\n",
       "  </thead>\n",
       "  <tbody>\n",
       "    <tr>\n",
       "      <th>392004</th>\n",
       "      <td>2014</td>\n",
       "      <td>Ford</td>\n",
       "      <td>Escape</td>\n",
       "      <td>Titanium</td>\n",
       "      <td>SUV</td>\n",
       "      <td>automatic</td>\n",
       "      <td>1fmcu9j98eua23833</td>\n",
       "      <td>mo</td>\n",
       "      <td>4.3</td>\n",
       "      <td>27802.0</td>\n",
       "      <td>green</td>\n",
       "      <td>tan</td>\n",
       "      <td>ford-lincoln dealer program</td>\n",
       "      <td>230000</td>\n",
       "      <td>Wed Feb 25 2015 02:00:00 GMT-0800 (PST)</td>\n",
       "    </tr>\n",
       "  </tbody>\n",
       "</table>\n",
       "</div>"
      ],
      "text/plain": [
       "        year  make   model      trim body transmission                vin  \\\n",
       "392004  2014  Ford  Escape  Titanium  SUV    automatic  1fmcu9j98eua23833   \n",
       "\n",
       "       state  condition  odometer  color interior  \\\n",
       "392004    mo        4.3   27802.0  green      tan   \n",
       "\n",
       "                             seller  sellingprice  \\\n",
       "392004  ford-lincoln dealer program        230000   \n",
       "\n",
       "                                       saledate  \n",
       "392004  Wed Feb 25 2015 02:00:00 GMT-0800 (PST)  "
      ]
     },
     "execution_count": 18,
     "metadata": {},
     "output_type": "execute_result"
    }
   ],
   "source": [
    "df.loc[df['sellingprice'].idxmax():df['sellingprice'].idxmax()]"
   ]
  },
  {
   "attachments": {},
   "cell_type": "markdown",
   "metadata": {},
   "source": [
    "Скорее всего была допущена ошибка в цене. Но так как такое значение всего одно, лучше будет удалить его"
   ]
  },
  {
   "cell_type": "code",
   "execution_count": 19,
   "metadata": {},
   "outputs": [],
   "source": [
    "df = df.drop(index=df['sellingprice'].idxmax())"
   ]
  },
  {
   "cell_type": "code",
   "execution_count": 20,
   "metadata": {},
   "outputs": [
    {
     "data": {
      "image/png": "[encoded data removed]",
      "text/plain": [
       "<Figure size 640x480 with 1 Axes>"
      ]
     },
     "metadata": {},
     "output_type": "display_data"
    }
   ],
   "source": [
    "sns.scatterplot(x=df['odometer'],y=df['sellingprice']).set(title='Распределение цены и расстояния');"
   ]
  },
  {
   "cell_type": "code",
   "execution_count": 21,
   "metadata": {},
   "outputs": [
    {
     "name": "stdout",
     "output_type": "stream",
     "text": [
      "35150.0\n"
     ]
    }
   ],
   "source": [
    "print(df['sellingprice'].quantile(0.75)+ 1.5*(df['sellingprice'].quantile(0.75)-df['sellingprice'].quantile(0.25)))"
   ]
  },
  {
   "attachments": {},
   "cell_type": "markdown",
   "metadata": {},
   "source": [
    "Посмотрим, чем отличаются автомобили с ценой выше 35150 от остальных"
   ]
  },
  {
   "cell_type": "code",
   "execution_count": 22,
   "metadata": {},
   "outputs": [
    {
     "data": {
      "text/html": [
       "<div>\n",
       "<style scoped>\n",
       "    .dataframe tbody tr th:only-of-type {\n",
       "        vertical-align: middle;\n",
       "    }\n",
       "\n",
       "    .dataframe tbody tr th {\n",
       "        vertical-align: top;\n",
       "    }\n",
       "\n",
       "    .dataframe thead tr th {\n",
       "        text-align: left;\n",
       "    }\n",
       "</style>\n",
       "<table border=\"1\" class=\"dataframe\">\n",
       "  <thead>\n",
       "    <tr>\n",
       "      <th></th>\n",
       "      <th colspan=\"2\" halign=\"left\">year</th>\n",
       "      <th colspan=\"2\" halign=\"left\">condition</th>\n",
       "      <th colspan=\"2\" halign=\"left\">odometer</th>\n",
       "      <th colspan=\"2\" halign=\"left\">sellingprice</th>\n",
       "    </tr>\n",
       "    <tr>\n",
       "      <th></th>\n",
       "      <th>self</th>\n",
       "      <th>other</th>\n",
       "      <th>self</th>\n",
       "      <th>other</th>\n",
       "      <th>self</th>\n",
       "      <th>other</th>\n",
       "      <th>self</th>\n",
       "      <th>other</th>\n",
       "    </tr>\n",
       "  </thead>\n",
       "  <tbody>\n",
       "    <tr>\n",
       "      <th>count</th>\n",
       "      <td>12835.000000</td>\n",
       "      <td>427272.000000</td>\n",
       "      <td>12790.000000</td>\n",
       "      <td>417962.000000</td>\n",
       "      <td>12835.000000</td>\n",
       "      <td>427272.000000</td>\n",
       "      <td>12835.000000</td>\n",
       "      <td>427272.000000</td>\n",
       "    </tr>\n",
       "    <tr>\n",
       "      <th>mean</th>\n",
       "      <td>2013.056019</td>\n",
       "      <td>2009.951108</td>\n",
       "      <td>4.261704</td>\n",
       "      <td>3.399757</td>\n",
       "      <td>23920.048617</td>\n",
       "      <td>69551.920341</td>\n",
       "      <td>45700.891001</td>\n",
       "      <td>12630.236028</td>\n",
       "    </tr>\n",
       "    <tr>\n",
       "      <th>std</th>\n",
       "      <td>1.508656</td>\n",
       "      <td>3.992392</td>\n",
       "      <td>0.616062</td>\n",
       "      <td>0.946562</td>\n",
       "      <td>16751.005236</td>\n",
       "      <td>52599.821759</td>\n",
       "      <td>13645.753208</td>\n",
       "      <td>7767.683229</td>\n",
       "    </tr>\n",
       "    <tr>\n",
       "      <th>min</th>\n",
       "      <td>2000.000000</td>\n",
       "      <td>1982.000000</td>\n",
       "      <td>NaN</td>\n",
       "      <td>NaN</td>\n",
       "      <td>NaN</td>\n",
       "      <td>NaN</td>\n",
       "      <td>35200.000000</td>\n",
       "      <td>1.000000</td>\n",
       "    </tr>\n",
       "    <tr>\n",
       "      <th>25%</th>\n",
       "      <td>2012.000000</td>\n",
       "      <td>2007.000000</td>\n",
       "      <td>4.000000</td>\n",
       "      <td>2.700000</td>\n",
       "      <td>10817.000000</td>\n",
       "      <td>29261.750000</td>\n",
       "      <td>37700.000000</td>\n",
       "      <td>6600.000000</td>\n",
       "    </tr>\n",
       "    <tr>\n",
       "      <th>50%</th>\n",
       "      <td>2013.000000</td>\n",
       "      <td>2012.000000</td>\n",
       "      <td>4.400000</td>\n",
       "      <td>3.500000</td>\n",
       "      <td>20643.000000</td>\n",
       "      <td>53735.000000</td>\n",
       "      <td>41250.000000</td>\n",
       "      <td>11900.000000</td>\n",
       "    </tr>\n",
       "    <tr>\n",
       "      <th>75%</th>\n",
       "      <td>2014.000000</td>\n",
       "      <td>2013.000000</td>\n",
       "      <td>4.800000</td>\n",
       "      <td>4.200000</td>\n",
       "      <td>34240.000000</td>\n",
       "      <td>100829.000000</td>\n",
       "      <td>48050.000000</td>\n",
       "      <td>17500.000000</td>\n",
       "    </tr>\n",
       "    <tr>\n",
       "      <th>max</th>\n",
       "      <td>NaN</td>\n",
       "      <td>NaN</td>\n",
       "      <td>NaN</td>\n",
       "      <td>NaN</td>\n",
       "      <td>159601.000000</td>\n",
       "      <td>537334.000000</td>\n",
       "      <td>183000.000000</td>\n",
       "      <td>35100.000000</td>\n",
       "    </tr>\n",
       "  </tbody>\n",
       "</table>\n",
       "</div>"
      ],
      "text/plain": [
       "               year                    condition                 \\\n",
       "               self          other          self          other   \n",
       "count  12835.000000  427272.000000  12790.000000  417962.000000   \n",
       "mean    2013.056019    2009.951108      4.261704       3.399757   \n",
       "std        1.508656       3.992392      0.616062       0.946562   \n",
       "min     2000.000000    1982.000000           NaN            NaN   \n",
       "25%     2012.000000    2007.000000      4.000000       2.700000   \n",
       "50%     2013.000000    2012.000000      4.400000       3.500000   \n",
       "75%     2014.000000    2013.000000      4.800000       4.200000   \n",
       "max             NaN            NaN           NaN            NaN   \n",
       "\n",
       "            odometer                  sellingprice                 \n",
       "                self          other           self          other  \n",
       "count   12835.000000  427272.000000   12835.000000  427272.000000  \n",
       "mean    23920.048617   69551.920341   45700.891001   12630.236028  \n",
       "std     16751.005236   52599.821759   13645.753208    7767.683229  \n",
       "min              NaN            NaN   35200.000000       1.000000  \n",
       "25%     10817.000000   29261.750000   37700.000000    6600.000000  \n",
       "50%     20643.000000   53735.000000   41250.000000   11900.000000  \n",
       "75%     34240.000000  100829.000000   48050.000000   17500.000000  \n",
       "max    159601.000000  537334.000000  183000.000000   35100.000000  "
      ]
     },
     "execution_count": 22,
     "metadata": {},
     "output_type": "execute_result"
    }
   ],
   "source": [
    "df.query('sellingprice>35150').describe().compare(df.query('sellingprice<=35150').describe())"
   ]
  },
  {
   "attachments": {},
   "cell_type": "markdown",
   "metadata": {},
   "source": [
    "Все разницы выглядят логичными. Автомобили с более высокой ценой в среднем были выпущены позже, пройденное расстояние меньше, в лучшем состоянии, по сравнению с автомобили с меньшей ценой. Можно сделать вывод, что данные автомобили не обладают аномальной ценой, но их количество невелико по сравнению с другими автомобилями, что также логично, так как рассматривается вторичный рынок."
   ]
  },
  {
   "cell_type": "code",
   "execution_count": 23,
   "metadata": {},
   "outputs": [
    {
     "data": {
      "text/html": [
       "<div>\n",
       "<style scoped>\n",
       "    .dataframe tbody tr th:only-of-type {\n",
       "        vertical-align: middle;\n",
       "    }\n",
       "\n",
       "    .dataframe tbody tr th {\n",
       "        vertical-align: top;\n",
       "    }\n",
       "\n",
       "    .dataframe thead th {\n",
       "        text-align: right;\n",
       "    }\n",
       "</style>\n",
       "<table border=\"1\" class=\"dataframe\">\n",
       "  <thead>\n",
       "    <tr style=\"text-align: right;\">\n",
       "      <th></th>\n",
       "      <th>year</th>\n",
       "      <th>make</th>\n",
       "      <th>model</th>\n",
       "      <th>trim</th>\n",
       "      <th>body</th>\n",
       "      <th>transmission</th>\n",
       "      <th>vin</th>\n",
       "      <th>state</th>\n",
       "      <th>condition</th>\n",
       "      <th>odometer</th>\n",
       "      <th>color</th>\n",
       "      <th>interior</th>\n",
       "      <th>seller</th>\n",
       "      <th>sellingprice</th>\n",
       "      <th>saledate</th>\n",
       "    </tr>\n",
       "  </thead>\n",
       "  <tbody>\n",
       "    <tr>\n",
       "      <th>137962</th>\n",
       "      <td>2003</td>\n",
       "      <td>Mercedes-Benz</td>\n",
       "      <td>E-Class</td>\n",
       "      <td>E500</td>\n",
       "      <td>Sedan</td>\n",
       "      <td>automatic</td>\n",
       "      <td>wdbuf70j73a269529</td>\n",
       "      <td>ga</td>\n",
       "      <td>2.1</td>\n",
       "      <td>1.0</td>\n",
       "      <td>black</td>\n",
       "      <td>black</td>\n",
       "      <td>peoples credit company inc</td>\n",
       "      <td>1</td>\n",
       "      <td>Tue Jan 06 2015 09:30:00 GMT-0800 (PST)</td>\n",
       "    </tr>\n",
       "  </tbody>\n",
       "</table>\n",
       "</div>"
      ],
      "text/plain": [
       "        year           make    model  trim   body transmission  \\\n",
       "137962  2003  Mercedes-Benz  E-Class  E500  Sedan    automatic   \n",
       "\n",
       "                      vin state  condition  odometer  color interior  \\\n",
       "137962  wdbuf70j73a269529    ga        2.1       1.0  black    black   \n",
       "\n",
       "                            seller  sellingprice  \\\n",
       "137962  peoples credit company inc             1   \n",
       "\n",
       "                                       saledate  \n",
       "137962  Tue Jan 06 2015 09:30:00 GMT-0800 (PST)  "
      ]
     },
     "execution_count": 23,
     "metadata": {},
     "output_type": "execute_result"
    }
   ],
   "source": [
    "df.query('sellingprice<100')"
   ]
  },
  {
   "attachments": {},
   "cell_type": "markdown",
   "metadata": {},
   "source": [
    "Есть автомобиль, у которога цена - 1 доллар. Скорее всего была заключена какая то сделка и цена была вставлена в качестве \"заглушки\". Стоит убрать этот автомобиль из датасета"
   ]
  },
  {
   "cell_type": "code",
   "execution_count": 24,
   "metadata": {},
   "outputs": [],
   "source": [
    "df = df.drop(index=df['sellingprice'].idxmin())"
   ]
  },
  {
   "attachments": {},
   "cell_type": "markdown",
   "metadata": {},
   "source": [
    "Посмотрим на автомобили с пропуском в оценке качества"
   ]
  },
  {
   "cell_type": "code",
   "execution_count": 25,
   "metadata": {},
   "outputs": [
    {
     "data": {
      "text/plain": [
       "<AxesSubplot: >"
      ]
     },
     "execution_count": 25,
     "metadata": {},
     "output_type": "execute_result"
    },
    {
     "data": {
      "image/png": "[encoded data removed]",
      "text/plain": [
       "<Figure size 640x480 with 1 Axes>"
      ]
     },
     "metadata": {},
     "output_type": "display_data"
    }
   ],
   "source": [
    "df['condition'].hist()"
   ]
  },
  {
   "cell_type": "code",
   "execution_count": 26,
   "metadata": {},
   "outputs": [
    {
     "data": {
      "text/html": [
       "<div>\n",
       "<style scoped>\n",
       "    .dataframe tbody tr th:only-of-type {\n",
       "        vertical-align: middle;\n",
       "    }\n",
       "\n",
       "    .dataframe tbody tr th {\n",
       "        vertical-align: top;\n",
       "    }\n",
       "\n",
       "    .dataframe thead th {\n",
       "        text-align: right;\n",
       "    }\n",
       "</style>\n",
       "<table border=\"1\" class=\"dataframe\">\n",
       "  <thead>\n",
       "    <tr style=\"text-align: right;\">\n",
       "      <th></th>\n",
       "      <th>year</th>\n",
       "      <th>make</th>\n",
       "      <th>model</th>\n",
       "      <th>trim</th>\n",
       "      <th>body</th>\n",
       "      <th>transmission</th>\n",
       "      <th>vin</th>\n",
       "      <th>state</th>\n",
       "      <th>condition</th>\n",
       "      <th>odometer</th>\n",
       "      <th>color</th>\n",
       "      <th>interior</th>\n",
       "      <th>seller</th>\n",
       "      <th>sellingprice</th>\n",
       "      <th>saledate</th>\n",
       "    </tr>\n",
       "  </thead>\n",
       "  <tbody>\n",
       "    <tr>\n",
       "      <th>89</th>\n",
       "      <td>1999</td>\n",
       "      <td>mercedes</td>\n",
       "      <td>e300dt</td>\n",
       "      <td>NaN</td>\n",
       "      <td>NaN</td>\n",
       "      <td>automatic</td>\n",
       "      <td>wdbjf25h9xa799907</td>\n",
       "      <td>mi</td>\n",
       "      <td>NaN</td>\n",
       "      <td>219516.0</td>\n",
       "      <td>green</td>\n",
       "      <td>beige</td>\n",
       "      <td>warren toyota</td>\n",
       "      <td>400</td>\n",
       "      <td>Thu Dec 18 2014 13:10:00 GMT-0800 (PST)</td>\n",
       "    </tr>\n",
       "    <tr>\n",
       "      <th>122</th>\n",
       "      <td>2007</td>\n",
       "      <td>Suzuki</td>\n",
       "      <td>Reno</td>\n",
       "      <td>Base</td>\n",
       "      <td>Hatchback</td>\n",
       "      <td>automatic</td>\n",
       "      <td>kl5jd66z97k726834</td>\n",
       "      <td>il</td>\n",
       "      <td>NaN</td>\n",
       "      <td>127936.0</td>\n",
       "      <td>red</td>\n",
       "      <td>—</td>\n",
       "      <td>ray chevrolet inc</td>\n",
       "      <td>1800</td>\n",
       "      <td>Thu Dec 18 2014 14:00:00 GMT-0800 (PST)</td>\n",
       "    </tr>\n",
       "    <tr>\n",
       "      <th>298</th>\n",
       "      <td>2006</td>\n",
       "      <td>Chevrolet</td>\n",
       "      <td>Silverado 1500</td>\n",
       "      <td>LT3</td>\n",
       "      <td>Crew Cab</td>\n",
       "      <td>automatic</td>\n",
       "      <td>2gcek13t761205016</td>\n",
       "      <td>ne</td>\n",
       "      <td>NaN</td>\n",
       "      <td>231208.0</td>\n",
       "      <td>burgundy</td>\n",
       "      <td>gray</td>\n",
       "      <td>woodhouse ford inc</td>\n",
       "      <td>6000</td>\n",
       "      <td>Thu Dec 18 2014 11:00:00 GMT-0800 (PST)</td>\n",
       "    </tr>\n",
       "    <tr>\n",
       "      <th>303</th>\n",
       "      <td>2013</td>\n",
       "      <td>Kia</td>\n",
       "      <td>Sorento</td>\n",
       "      <td>LX</td>\n",
       "      <td>SUV</td>\n",
       "      <td>automatic</td>\n",
       "      <td>5xyktda60dg359259</td>\n",
       "      <td>il</td>\n",
       "      <td>NaN</td>\n",
       "      <td>31404.0</td>\n",
       "      <td>burgundy</td>\n",
       "      <td>—</td>\n",
       "      <td>world hyundai matteson</td>\n",
       "      <td>16500</td>\n",
       "      <td>Thu Dec 18 2014 10:00:00 GMT-0800 (PST)</td>\n",
       "    </tr>\n",
       "    <tr>\n",
       "      <th>326</th>\n",
       "      <td>2005</td>\n",
       "      <td>Jeep</td>\n",
       "      <td>Liberty</td>\n",
       "      <td>Sport</td>\n",
       "      <td>SUV</td>\n",
       "      <td>automatic</td>\n",
       "      <td>1j8gl48k25w621160</td>\n",
       "      <td>pa</td>\n",
       "      <td>NaN</td>\n",
       "      <td>102341.0</td>\n",
       "      <td>black</td>\n",
       "      <td>—</td>\n",
       "      <td>adcock brothers inc</td>\n",
       "      <td>4200</td>\n",
       "      <td>Fri Dec 19 2014 09:30:00 GMT-0800 (PST)</td>\n",
       "    </tr>\n",
       "    <tr>\n",
       "      <th>...</th>\n",
       "      <td>...</td>\n",
       "      <td>...</td>\n",
       "      <td>...</td>\n",
       "      <td>...</td>\n",
       "      <td>...</td>\n",
       "      <td>...</td>\n",
       "      <td>...</td>\n",
       "      <td>...</td>\n",
       "      <td>...</td>\n",
       "      <td>...</td>\n",
       "      <td>...</td>\n",
       "      <td>...</td>\n",
       "      <td>...</td>\n",
       "      <td>...</td>\n",
       "      <td>...</td>\n",
       "    </tr>\n",
       "    <tr>\n",
       "      <th>439900</th>\n",
       "      <td>2001</td>\n",
       "      <td>Infiniti</td>\n",
       "      <td>I30</td>\n",
       "      <td>Base</td>\n",
       "      <td>Sedan</td>\n",
       "      <td>automatic</td>\n",
       "      <td>jnkca31a81t019350</td>\n",
       "      <td>az</td>\n",
       "      <td>NaN</td>\n",
       "      <td>194302.0</td>\n",
       "      <td>brown</td>\n",
       "      <td>brown</td>\n",
       "      <td>right honda</td>\n",
       "      <td>1300</td>\n",
       "      <td>Thu Dec 18 2014 11:00:00 GMT-0800 (PST)</td>\n",
       "    </tr>\n",
       "    <tr>\n",
       "      <th>439920</th>\n",
       "      <td>2013</td>\n",
       "      <td>Chevrolet</td>\n",
       "      <td>Silverado 1500</td>\n",
       "      <td>LT</td>\n",
       "      <td>Extended Cab</td>\n",
       "      <td>automatic</td>\n",
       "      <td>1gcrcse01dz410293</td>\n",
       "      <td>az</td>\n",
       "      <td>NaN</td>\n",
       "      <td>19431.0</td>\n",
       "      <td>black</td>\n",
       "      <td>black</td>\n",
       "      <td>yates buick gmc inc</td>\n",
       "      <td>22800</td>\n",
       "      <td>Thu Dec 18 2014 11:00:00 GMT-0800 (PST)</td>\n",
       "    </tr>\n",
       "    <tr>\n",
       "      <th>440145</th>\n",
       "      <td>2010</td>\n",
       "      <td>Mazda</td>\n",
       "      <td>Mazda3</td>\n",
       "      <td>s Grand Touring</td>\n",
       "      <td>Hatchback</td>\n",
       "      <td>automatic</td>\n",
       "      <td>jm1bl1h63a1137542</td>\n",
       "      <td>nj</td>\n",
       "      <td>NaN</td>\n",
       "      <td>104692.0</td>\n",
       "      <td>gray</td>\n",
       "      <td>—</td>\n",
       "      <td>d &amp; d auto group llc</td>\n",
       "      <td>6650</td>\n",
       "      <td>Wed Dec 17 2014 09:30:00 GMT-0800 (PST)</td>\n",
       "    </tr>\n",
       "    <tr>\n",
       "      <th>440166</th>\n",
       "      <td>2005</td>\n",
       "      <td>Nissan</td>\n",
       "      <td>Maxima</td>\n",
       "      <td>3.5 SL</td>\n",
       "      <td>Sedan</td>\n",
       "      <td>automatic</td>\n",
       "      <td>1n4ba41e45c809875</td>\n",
       "      <td>fl</td>\n",
       "      <td>NaN</td>\n",
       "      <td>152938.0</td>\n",
       "      <td>gray</td>\n",
       "      <td>gray</td>\n",
       "      <td>gettel nissan of sarasota</td>\n",
       "      <td>2800</td>\n",
       "      <td>Thu Dec 18 2014 16:10:00 GMT-0800 (PST)</td>\n",
       "    </tr>\n",
       "    <tr>\n",
       "      <th>440223</th>\n",
       "      <td>2000</td>\n",
       "      <td>Audi</td>\n",
       "      <td>A4</td>\n",
       "      <td>1.8T quattro</td>\n",
       "      <td>Sedan</td>\n",
       "      <td>automatic</td>\n",
       "      <td>waudc28dxya073343</td>\n",
       "      <td>mo</td>\n",
       "      <td>NaN</td>\n",
       "      <td>105021.0</td>\n",
       "      <td>red</td>\n",
       "      <td>—</td>\n",
       "      <td>o'fallon motorsports</td>\n",
       "      <td>2500</td>\n",
       "      <td>Tue Dec 23 2014 11:00:00 GMT-0800 (PST)</td>\n",
       "    </tr>\n",
       "  </tbody>\n",
       "</table>\n",
       "<p>9355 rows × 15 columns</p>\n",
       "</div>"
      ],
      "text/plain": [
       "        year       make           model             trim          body  \\\n",
       "89      1999   mercedes          e300dt              NaN           NaN   \n",
       "122     2007     Suzuki            Reno             Base     Hatchback   \n",
       "298     2006  Chevrolet  Silverado 1500              LT3      Crew Cab   \n",
       "303     2013        Kia         Sorento               LX           SUV   \n",
       "326     2005       Jeep         Liberty            Sport           SUV   \n",
       "...      ...        ...             ...              ...           ...   \n",
       "439900  2001   Infiniti             I30             Base         Sedan   \n",
       "439920  2013  Chevrolet  Silverado 1500               LT  Extended Cab   \n",
       "440145  2010      Mazda          Mazda3  s Grand Touring     Hatchback   \n",
       "440166  2005     Nissan          Maxima           3.5 SL         Sedan   \n",
       "440223  2000       Audi              A4     1.8T quattro         Sedan   \n",
       "\n",
       "       transmission                vin state  condition  odometer     color  \\\n",
       "89        automatic  wdbjf25h9xa799907    mi        NaN  219516.0     green   \n",
       "122       automatic  kl5jd66z97k726834    il        NaN  127936.0       red   \n",
       "298       automatic  2gcek13t761205016    ne        NaN  231208.0  burgundy   \n",
       "303       automatic  5xyktda60dg359259    il        NaN   31404.0  burgundy   \n",
       "326       automatic  1j8gl48k25w621160    pa        NaN  102341.0     black   \n",
       "...             ...                ...   ...        ...       ...       ...   \n",
       "439900    automatic  jnkca31a81t019350    az        NaN  194302.0     brown   \n",
       "439920    automatic  1gcrcse01dz410293    az        NaN   19431.0     black   \n",
       "440145    automatic  jm1bl1h63a1137542    nj        NaN  104692.0      gray   \n",
       "440166    automatic  1n4ba41e45c809875    fl        NaN  152938.0      gray   \n",
       "440223    automatic  waudc28dxya073343    mo        NaN  105021.0       red   \n",
       "\n",
       "       interior                     seller  sellingprice  \\\n",
       "89        beige              warren toyota           400   \n",
       "122           —          ray chevrolet inc          1800   \n",
       "298        gray         woodhouse ford inc          6000   \n",
       "303           —     world hyundai matteson         16500   \n",
       "326           —        adcock brothers inc          4200   \n",
       "...         ...                        ...           ...   \n",
       "439900    brown                right honda          1300   \n",
       "439920    black        yates buick gmc inc         22800   \n",
       "440145        —       d & d auto group llc          6650   \n",
       "440166     gray  gettel nissan of sarasota          2800   \n",
       "440223        —       o'fallon motorsports          2500   \n",
       "\n",
       "                                       saledate  \n",
       "89      Thu Dec 18 2014 13:10:00 GMT-0800 (PST)  \n",
       "122     Thu Dec 18 2014 14:00:00 GMT-0800 (PST)  \n",
       "298     Thu Dec 18 2014 11:00:00 GMT-0800 (PST)  \n",
       "303     Thu Dec 18 2014 10:00:00 GMT-0800 (PST)  \n",
       "326     Fri Dec 19 2014 09:30:00 GMT-0800 (PST)  \n",
       "...                                         ...  \n",
       "439900  Thu Dec 18 2014 11:00:00 GMT-0800 (PST)  \n",
       "439920  Thu Dec 18 2014 11:00:00 GMT-0800 (PST)  \n",
       "440145  Wed Dec 17 2014 09:30:00 GMT-0800 (PST)  \n",
       "440166  Thu Dec 18 2014 16:10:00 GMT-0800 (PST)  \n",
       "440223  Tue Dec 23 2014 11:00:00 GMT-0800 (PST)  \n",
       "\n",
       "[9355 rows x 15 columns]"
      ]
     },
     "execution_count": 26,
     "metadata": {},
     "output_type": "execute_result"
    }
   ],
   "source": [
    "df.loc[df['condition'].isnull()]"
   ]
  },
  {
   "attachments": {},
   "cell_type": "markdown",
   "metadata": {},
   "source": [
    "Заполним случайно пропуски, сохранив при этом доли оценок"
   ]
  },
  {
   "cell_type": "code",
   "execution_count": 27,
   "metadata": {},
   "outputs": [],
   "source": [
    "random_state = 12345"
   ]
  },
  {
   "cell_type": "code",
   "execution_count": 28,
   "metadata": {},
   "outputs": [],
   "source": [
    "np.random.seed(random_state)"
   ]
  },
  {
   "cell_type": "code",
   "execution_count": 29,
   "metadata": {},
   "outputs": [],
   "source": [
    "def fill_condition():\n",
    "    p = list(df['condition'].value_counts()/len(df.query('not condition.isnull()')))\n",
    "    a = df['condition'].value_counts().index\n",
    "    l = sum(df['condition'].isnull())\n",
    "    df.loc[df['condition'].isnull(),'condition']=np.random.choice(a,l,p)"
   ]
  },
  {
   "cell_type": "code",
   "execution_count": 30,
   "metadata": {},
   "outputs": [],
   "source": [
    "fill_condition()"
   ]
  },
  {
   "cell_type": "code",
   "execution_count": 31,
   "metadata": {},
   "outputs": [
    {
     "data": {
      "text/plain": [
       "<AxesSubplot: >"
      ]
     },
     "execution_count": 31,
     "metadata": {},
     "output_type": "execute_result"
    },
    {
     "data": {
      "image/png": "[encoded data removed]",
      "text/plain": [
       "<Figure size 640x480 with 1 Axes>"
      ]
     },
     "metadata": {},
     "output_type": "display_data"
    }
   ],
   "source": [
    "df['condition'].hist()"
   ]
  },
  {
   "attachments": {},
   "cell_type": "markdown",
   "metadata": {},
   "source": [
    "#### Категориальные признаки"
   ]
  },
  {
   "attachments": {},
   "cell_type": "markdown",
   "metadata": {},
   "source": [
    "Среди категориальных данных множество пропущенных значений"
   ]
  },
  {
   "cell_type": "code",
   "execution_count": 32,
   "metadata": {},
   "outputs": [
    {
     "name": "stdout",
     "output_type": "stream",
     "text": [
      "<class 'pandas.core.frame.DataFrame'>\n",
      "Int64Index: 440106 entries, 0 to 440235\n",
      "Data columns (total 15 columns):\n",
      " #   Column        Non-Null Count   Dtype  \n",
      "---  ------        --------------   -----  \n",
      " 0   year          440106 non-null  int64  \n",
      " 1   make          432067 non-null  object \n",
      " 2   model         431987 non-null  object \n",
      " 3   trim          431776 non-null  object \n",
      " 4   body          429724 non-null  object \n",
      " 5   transmission  388675 non-null  object \n",
      " 6   vin           440106 non-null  object \n",
      " 7   state         440106 non-null  object \n",
      " 8   condition     440106 non-null  float64\n",
      " 9   odometer      440106 non-null  float64\n",
      " 10  color         439528 non-null  object \n",
      " 11  interior      439528 non-null  object \n",
      " 12  seller        440106 non-null  object \n",
      " 13  sellingprice  440106 non-null  int64  \n",
      " 14  saledate      440106 non-null  object \n",
      "dtypes: float64(2), int64(2), object(11)\n",
      "memory usage: 53.7+ MB\n"
     ]
    }
   ],
   "source": [
    "df.info()"
   ]
  },
  {
   "cell_type": "code",
   "execution_count": 33,
   "metadata": {},
   "outputs": [],
   "source": [
    "df['odometer'] = df['odometer'].fillna(0)"
   ]
  },
  {
   "cell_type": "code",
   "execution_count": 34,
   "metadata": {},
   "outputs": [
    {
     "name": "stdout",
     "output_type": "stream",
     "text": [
      "Количество уникальных значений в make: 93\n",
      "Количество уникальных значений в model: 960\n",
      "Количество уникальных значений в body: 86\n",
      "Количество уникальных значений в trim: 1923\n",
      "Количество уникальных значений в seller: 13017\n"
     ]
    }
   ],
   "source": [
    "print(\"Количество уникальных значений в make:\",len(df['make'].unique()))\n",
    "print(\"Количество уникальных значений в model:\",len(df['model'].unique()))\n",
    "print(\"Количество уникальных значений в body:\",len(df['body'].unique()))\n",
    "print(\"Количество уникальных значений в trim:\",len(df['trim'].unique()))\n",
    "print(\"Количество уникальных значений в seller:\",len(df['seller'].unique()))"
   ]
  },
  {
   "attachments": {},
   "cell_type": "markdown",
   "metadata": {},
   "source": [
    "Также присутсвует множество уникальных значений, что в дальнейшем может сильно усложнить обучение модели"
   ]
  },
  {
   "attachments": {},
   "cell_type": "markdown",
   "metadata": {},
   "source": [
    "Приведем столбцы к одинаковому виду"
   ]
  },
  {
   "cell_type": "code",
   "execution_count": 35,
   "metadata": {},
   "outputs": [],
   "source": [
    "df['make'] = df['make'].str.lower()\n",
    "df['trim'] = df['trim'].str.lower()\n",
    "df['model'] = df['model'].str.lower()\n",
    "df['body'] = df['body'].str.lower()\n",
    "df['transmission'] = df['transmission'].str.lower()\n",
    "df['seller'] = df['seller'].str.lower()\n",
    "df['color'] = df['color'].str.lower()\n",
    "df['interior'] = df['interior'].str.lower()"
   ]
  },
  {
   "attachments": {},
   "cell_type": "markdown",
   "metadata": {},
   "source": [
    "Так как пропусков очень много, их нельзя удалить. Поэтому заменим пропуски на категорию \"uknown\""
   ]
  },
  {
   "cell_type": "code",
   "execution_count": 36,
   "metadata": {},
   "outputs": [],
   "source": [
    "df['make'] = df['make'].fillna('uknown')\n",
    "df['model'] = df['model'].fillna('uknown')\n",
    "df['trim'] = df['trim'].fillna('uknown')\n",
    "df['body'] = df['body'].fillna('uknown')\n",
    "df['transmission'] = df['transmission'].fillna('uknown')\n",
    "df['odometer'] = df['odometer'].fillna(0)\n",
    "df['color'] = df['color'].fillna('uknown')\n",
    "df['interior'] = df['interior'].fillna('uknown')"
   ]
  },
  {
   "cell_type": "code",
   "execution_count": 37,
   "metadata": {},
   "outputs": [
    {
     "name": "stdout",
     "output_type": "stream",
     "text": [
      "<class 'pandas.core.frame.DataFrame'>\n",
      "Int64Index: 440106 entries, 0 to 440235\n",
      "Data columns (total 15 columns):\n",
      " #   Column        Non-Null Count   Dtype  \n",
      "---  ------        --------------   -----  \n",
      " 0   year          440106 non-null  int64  \n",
      " 1   make          440106 non-null  object \n",
      " 2   model         440106 non-null  object \n",
      " 3   trim          440106 non-null  object \n",
      " 4   body          440106 non-null  object \n",
      " 5   transmission  440106 non-null  object \n",
      " 6   vin           440106 non-null  object \n",
      " 7   state         440106 non-null  object \n",
      " 8   condition     440106 non-null  float64\n",
      " 9   odometer      440106 non-null  float64\n",
      " 10  color         440106 non-null  object \n",
      " 11  interior      440106 non-null  object \n",
      " 12  seller        440106 non-null  object \n",
      " 13  sellingprice  440106 non-null  int64  \n",
      " 14  saledate      440106 non-null  object \n",
      "dtypes: float64(2), int64(2), object(11)\n",
      "memory usage: 53.7+ MB\n"
     ]
    }
   ],
   "source": [
    "df.info()"
   ]
  },
  {
   "attachments": {},
   "cell_type": "markdown",
   "metadata": {},
   "source": [
    "Пропуски полностью заполнены"
   ]
  },
  {
   "attachments": {},
   "cell_type": "markdown",
   "metadata": {},
   "source": [
    "Удалим столбец vin, так как он нам не пригодится"
   ]
  },
  {
   "cell_type": "code",
   "execution_count": 38,
   "metadata": {},
   "outputs": [],
   "source": [
    "df = df.drop('vin',axis=1)"
   ]
  },
  {
   "attachments": {},
   "cell_type": "markdown",
   "metadata": {},
   "source": [
    "Сбросим индексы после удаления строк"
   ]
  },
  {
   "cell_type": "code",
   "execution_count": 39,
   "metadata": {},
   "outputs": [],
   "source": [
    "df = df.reset_index(drop=True)"
   ]
  },
  {
   "attachments": {},
   "cell_type": "markdown",
   "metadata": {},
   "source": [
    "### Преобразование типов"
   ]
  },
  {
   "attachments": {},
   "cell_type": "markdown",
   "metadata": {},
   "source": [
    "#### Дата"
   ]
  },
  {
   "cell_type": "code",
   "execution_count": 40,
   "metadata": {},
   "outputs": [
    {
     "data": {
      "text/plain": [
       "0         Tue Jun 02 2015 02:30:00 GMT-0700 (PDT)\n",
       "1         Wed Feb 25 2015 02:00:00 GMT-0800 (PST)\n",
       "2         Wed Jun 10 2015 02:30:00 GMT-0700 (PDT)\n",
       "3         Wed Jun 17 2015 03:00:00 GMT-0700 (PDT)\n",
       "4         Tue Feb 03 2015 04:00:00 GMT-0800 (PST)\n",
       "                           ...                   \n",
       "440101    Tue Jan 20 2015 04:30:00 GMT-0800 (PST)\n",
       "440102    Wed Feb 11 2015 02:00:00 GMT-0800 (PST)\n",
       "440103    Tue Mar 03 2015 04:30:00 GMT-0800 (PST)\n",
       "440104    Wed Jan 14 2015 02:05:00 GMT-0800 (PST)\n",
       "440105    Thu Jan 15 2015 02:00:00 GMT-0800 (PST)\n",
       "Name: saledate, Length: 440106, dtype: object"
      ]
     },
     "execution_count": 40,
     "metadata": {},
     "output_type": "execute_result"
    }
   ],
   "source": [
    "df['saledate']"
   ]
  },
  {
   "cell_type": "code",
   "execution_count": 41,
   "metadata": {},
   "outputs": [],
   "source": [
    "df['date'] = pd.to_datetime(df['saledate'], format='%a %b %d %Y %H:%M:%S',exact=False)"
   ]
  },
  {
   "cell_type": "code",
   "execution_count": 42,
   "metadata": {},
   "outputs": [
    {
     "data": {
      "text/plain": [
       "0        2015-06-02 02:30:00\n",
       "1        2015-02-25 02:00:00\n",
       "2        2015-06-10 02:30:00\n",
       "3        2015-06-17 03:00:00\n",
       "4        2015-02-03 04:00:00\n",
       "                 ...        \n",
       "440101   2015-01-20 04:30:00\n",
       "440102   2015-02-11 02:00:00\n",
       "440103   2015-03-03 04:30:00\n",
       "440104   2015-01-14 02:05:00\n",
       "440105   2015-01-15 02:00:00\n",
       "Name: date, Length: 440106, dtype: datetime64[ns]"
      ]
     },
     "execution_count": 42,
     "metadata": {},
     "output_type": "execute_result"
    }
   ],
   "source": [
    "df['date']"
   ]
  },
  {
   "attachments": {},
   "cell_type": "markdown",
   "metadata": {},
   "source": [
    "Выделим из даты данные, которые могу пригодится"
   ]
  },
  {
   "cell_type": "code",
   "execution_count": 43,
   "metadata": {},
   "outputs": [],
   "source": [
    "df['month'] = df['date'].dt.month\n",
    "df['day'] = df['date'].dt.day\n",
    "df['dow'] = df['date'].dt.day_of_week\n",
    "df['hour']=df['date'].dt.hour\n",
    "df['sale_year']=df['date'].dt.year"
   ]
  },
  {
   "attachments": {},
   "cell_type": "markdown",
   "metadata": {},
   "source": [
    "Удалим дату, так как теперь она не нужна"
   ]
  },
  {
   "cell_type": "code",
   "execution_count": 44,
   "metadata": {},
   "outputs": [],
   "source": [
    "df = df.drop(['date','saledate'],axis=1)"
   ]
  },
  {
   "attachments": {},
   "cell_type": "markdown",
   "metadata": {},
   "source": [
    "#### Transmission"
   ]
  },
  {
   "cell_type": "code",
   "execution_count": 45,
   "metadata": {},
   "outputs": [],
   "source": [
    "df['transmission'] = df['transmission'] == 'automatic'"
   ]
  },
  {
   "cell_type": "code",
   "execution_count": 46,
   "metadata": {},
   "outputs": [
    {
     "data": {
      "text/html": [
       "<div>\n",
       "<style scoped>\n",
       "    .dataframe tbody tr th:only-of-type {\n",
       "        vertical-align: middle;\n",
       "    }\n",
       "\n",
       "    .dataframe tbody tr th {\n",
       "        vertical-align: top;\n",
       "    }\n",
       "\n",
       "    .dataframe thead th {\n",
       "        text-align: right;\n",
       "    }\n",
       "</style>\n",
       "<table border=\"1\" class=\"dataframe\">\n",
       "  <thead>\n",
       "    <tr style=\"text-align: right;\">\n",
       "      <th></th>\n",
       "      <th>year</th>\n",
       "      <th>make</th>\n",
       "      <th>model</th>\n",
       "      <th>trim</th>\n",
       "      <th>body</th>\n",
       "      <th>transmission</th>\n",
       "      <th>state</th>\n",
       "      <th>condition</th>\n",
       "      <th>odometer</th>\n",
       "      <th>color</th>\n",
       "      <th>interior</th>\n",
       "      <th>seller</th>\n",
       "      <th>sellingprice</th>\n",
       "      <th>month</th>\n",
       "      <th>day</th>\n",
       "      <th>dow</th>\n",
       "      <th>hour</th>\n",
       "      <th>sale_year</th>\n",
       "    </tr>\n",
       "  </thead>\n",
       "  <tbody>\n",
       "    <tr>\n",
       "      <th>0</th>\n",
       "      <td>2011</td>\n",
       "      <td>ford</td>\n",
       "      <td>edge</td>\n",
       "      <td>sel</td>\n",
       "      <td>suv</td>\n",
       "      <td>True</td>\n",
       "      <td>md</td>\n",
       "      <td>4.2</td>\n",
       "      <td>111041.0</td>\n",
       "      <td>black</td>\n",
       "      <td>black</td>\n",
       "      <td>santander consumer</td>\n",
       "      <td>12500</td>\n",
       "      <td>6</td>\n",
       "      <td>2</td>\n",
       "      <td>1</td>\n",
       "      <td>2</td>\n",
       "      <td>2015</td>\n",
       "    </tr>\n",
       "    <tr>\n",
       "      <th>1</th>\n",
       "      <td>2014</td>\n",
       "      <td>ford</td>\n",
       "      <td>fusion</td>\n",
       "      <td>se</td>\n",
       "      <td>sedan</td>\n",
       "      <td>True</td>\n",
       "      <td>mo</td>\n",
       "      <td>3.5</td>\n",
       "      <td>31034.0</td>\n",
       "      <td>black</td>\n",
       "      <td>black</td>\n",
       "      <td>ars/avis budget group</td>\n",
       "      <td>14500</td>\n",
       "      <td>2</td>\n",
       "      <td>25</td>\n",
       "      <td>2</td>\n",
       "      <td>2</td>\n",
       "      <td>2015</td>\n",
       "    </tr>\n",
       "    <tr>\n",
       "      <th>2</th>\n",
       "      <td>2012</td>\n",
       "      <td>nissan</td>\n",
       "      <td>sentra</td>\n",
       "      <td>2.0 sl</td>\n",
       "      <td>sedan</td>\n",
       "      <td>True</td>\n",
       "      <td>nj</td>\n",
       "      <td>2.2</td>\n",
       "      <td>35619.0</td>\n",
       "      <td>black</td>\n",
       "      <td>black</td>\n",
       "      <td>nissan-infiniti lt</td>\n",
       "      <td>9100</td>\n",
       "      <td>6</td>\n",
       "      <td>10</td>\n",
       "      <td>2</td>\n",
       "      <td>2</td>\n",
       "      <td>2015</td>\n",
       "    </tr>\n",
       "    <tr>\n",
       "      <th>3</th>\n",
       "      <td>2003</td>\n",
       "      <td>hummer</td>\n",
       "      <td>h2</td>\n",
       "      <td>base</td>\n",
       "      <td>suv</td>\n",
       "      <td>True</td>\n",
       "      <td>tx</td>\n",
       "      <td>2.8</td>\n",
       "      <td>131301.0</td>\n",
       "      <td>gold</td>\n",
       "      <td>beige</td>\n",
       "      <td>wichita falls ford lin inc</td>\n",
       "      <td>13300</td>\n",
       "      <td>6</td>\n",
       "      <td>17</td>\n",
       "      <td>2</td>\n",
       "      <td>3</td>\n",
       "      <td>2015</td>\n",
       "    </tr>\n",
       "    <tr>\n",
       "      <th>4</th>\n",
       "      <td>2007</td>\n",
       "      <td>ford</td>\n",
       "      <td>fusion</td>\n",
       "      <td>sel</td>\n",
       "      <td>sedan</td>\n",
       "      <td>True</td>\n",
       "      <td>md</td>\n",
       "      <td>2.0</td>\n",
       "      <td>127709.0</td>\n",
       "      <td>black</td>\n",
       "      <td>black</td>\n",
       "      <td>purple heart</td>\n",
       "      <td>1300</td>\n",
       "      <td>2</td>\n",
       "      <td>3</td>\n",
       "      <td>1</td>\n",
       "      <td>4</td>\n",
       "      <td>2015</td>\n",
       "    </tr>\n",
       "    <tr>\n",
       "      <th>...</th>\n",
       "      <td>...</td>\n",
       "      <td>...</td>\n",
       "      <td>...</td>\n",
       "      <td>...</td>\n",
       "      <td>...</td>\n",
       "      <td>...</td>\n",
       "      <td>...</td>\n",
       "      <td>...</td>\n",
       "      <td>...</td>\n",
       "      <td>...</td>\n",
       "      <td>...</td>\n",
       "      <td>...</td>\n",
       "      <td>...</td>\n",
       "      <td>...</td>\n",
       "      <td>...</td>\n",
       "      <td>...</td>\n",
       "      <td>...</td>\n",
       "      <td>...</td>\n",
       "    </tr>\n",
       "    <tr>\n",
       "      <th>440101</th>\n",
       "      <td>2013</td>\n",
       "      <td>kia</td>\n",
       "      <td>optima</td>\n",
       "      <td>ex hybrid</td>\n",
       "      <td>sedan</td>\n",
       "      <td>True</td>\n",
       "      <td>ca</td>\n",
       "      <td>4.5</td>\n",
       "      <td>20434.0</td>\n",
       "      <td>white</td>\n",
       "      <td>beige</td>\n",
       "      <td>kia motors america, inc</td>\n",
       "      <td>16000</td>\n",
       "      <td>1</td>\n",
       "      <td>20</td>\n",
       "      <td>1</td>\n",
       "      <td>4</td>\n",
       "      <td>2015</td>\n",
       "    </tr>\n",
       "    <tr>\n",
       "      <th>440102</th>\n",
       "      <td>2014</td>\n",
       "      <td>mini</td>\n",
       "      <td>cooper countryman</td>\n",
       "      <td>s all4</td>\n",
       "      <td>wagon</td>\n",
       "      <td>True</td>\n",
       "      <td>wi</td>\n",
       "      <td>2.9</td>\n",
       "      <td>14675.0</td>\n",
       "      <td>white</td>\n",
       "      <td>black</td>\n",
       "      <td>bmw mini financial services</td>\n",
       "      <td>24250</td>\n",
       "      <td>2</td>\n",
       "      <td>11</td>\n",
       "      <td>2</td>\n",
       "      <td>2</td>\n",
       "      <td>2015</td>\n",
       "    </tr>\n",
       "    <tr>\n",
       "      <th>440103</th>\n",
       "      <td>2008</td>\n",
       "      <td>bmw</td>\n",
       "      <td>6 series</td>\n",
       "      <td>650i</td>\n",
       "      <td>coupe</td>\n",
       "      <td>True</td>\n",
       "      <td>ca</td>\n",
       "      <td>3.7</td>\n",
       "      <td>102552.0</td>\n",
       "      <td>gray</td>\n",
       "      <td>black</td>\n",
       "      <td>studio city auto group</td>\n",
       "      <td>16750</td>\n",
       "      <td>3</td>\n",
       "      <td>3</td>\n",
       "      <td>1</td>\n",
       "      <td>4</td>\n",
       "      <td>2015</td>\n",
       "    </tr>\n",
       "    <tr>\n",
       "      <th>440104</th>\n",
       "      <td>2014</td>\n",
       "      <td>ram</td>\n",
       "      <td>2500</td>\n",
       "      <td>slt</td>\n",
       "      <td>crew cab</td>\n",
       "      <td>True</td>\n",
       "      <td>tx</td>\n",
       "      <td>3.0</td>\n",
       "      <td>29367.0</td>\n",
       "      <td>white</td>\n",
       "      <td>gray</td>\n",
       "      <td>express car &amp; truck rental</td>\n",
       "      <td>33000</td>\n",
       "      <td>1</td>\n",
       "      <td>14</td>\n",
       "      <td>2</td>\n",
       "      <td>2</td>\n",
       "      <td>2015</td>\n",
       "    </tr>\n",
       "    <tr>\n",
       "      <th>440105</th>\n",
       "      <td>2013</td>\n",
       "      <td>nissan</td>\n",
       "      <td>rogue</td>\n",
       "      <td>sv</td>\n",
       "      <td>suv</td>\n",
       "      <td>True</td>\n",
       "      <td>il</td>\n",
       "      <td>3.5</td>\n",
       "      <td>27924.0</td>\n",
       "      <td>silver</td>\n",
       "      <td>gray</td>\n",
       "      <td>ec sales,llc</td>\n",
       "      <td>14500</td>\n",
       "      <td>1</td>\n",
       "      <td>15</td>\n",
       "      <td>3</td>\n",
       "      <td>2</td>\n",
       "      <td>2015</td>\n",
       "    </tr>\n",
       "  </tbody>\n",
       "</table>\n",
       "<p>440106 rows × 18 columns</p>\n",
       "</div>"
      ],
      "text/plain": [
       "        year    make              model       trim      body  transmission  \\\n",
       "0       2011    ford               edge        sel       suv          True   \n",
       "1       2014    ford             fusion         se     sedan          True   \n",
       "2       2012  nissan             sentra     2.0 sl     sedan          True   \n",
       "3       2003  hummer                 h2       base       suv          True   \n",
       "4       2007    ford             fusion        sel     sedan          True   \n",
       "...      ...     ...                ...        ...       ...           ...   \n",
       "440101  2013     kia             optima  ex hybrid     sedan          True   \n",
       "440102  2014    mini  cooper countryman     s all4     wagon          True   \n",
       "440103  2008     bmw           6 series       650i     coupe          True   \n",
       "440104  2014     ram               2500        slt  crew cab          True   \n",
       "440105  2013  nissan              rogue         sv       suv          True   \n",
       "\n",
       "       state  condition  odometer   color interior  \\\n",
       "0         md        4.2  111041.0   black    black   \n",
       "1         mo        3.5   31034.0   black    black   \n",
       "2         nj        2.2   35619.0   black    black   \n",
       "3         tx        2.8  131301.0    gold    beige   \n",
       "4         md        2.0  127709.0   black    black   \n",
       "...      ...        ...       ...     ...      ...   \n",
       "440101    ca        4.5   20434.0   white    beige   \n",
       "440102    wi        2.9   14675.0   white    black   \n",
       "440103    ca        3.7  102552.0    gray    black   \n",
       "440104    tx        3.0   29367.0   white     gray   \n",
       "440105    il        3.5   27924.0  silver     gray   \n",
       "\n",
       "                             seller  sellingprice  month  day  dow  hour  \\\n",
       "0                santander consumer         12500      6    2    1     2   \n",
       "1             ars/avis budget group         14500      2   25    2     2   \n",
       "2                nissan-infiniti lt          9100      6   10    2     2   \n",
       "3        wichita falls ford lin inc         13300      6   17    2     3   \n",
       "4                      purple heart          1300      2    3    1     4   \n",
       "...                             ...           ...    ...  ...  ...   ...   \n",
       "440101      kia motors america, inc         16000      1   20    1     4   \n",
       "440102  bmw mini financial services         24250      2   11    2     2   \n",
       "440103       studio city auto group         16750      3    3    1     4   \n",
       "440104   express car & truck rental         33000      1   14    2     2   \n",
       "440105                 ec sales,llc         14500      1   15    3     2   \n",
       "\n",
       "        sale_year  \n",
       "0            2015  \n",
       "1            2015  \n",
       "2            2015  \n",
       "3            2015  \n",
       "4            2015  \n",
       "...           ...  \n",
       "440101       2015  \n",
       "440102       2015  \n",
       "440103       2015  \n",
       "440104       2015  \n",
       "440105       2015  \n",
       "\n",
       "[440106 rows x 18 columns]"
      ]
     },
     "execution_count": 46,
     "metadata": {},
     "output_type": "execute_result"
    }
   ],
   "source": [
    "df"
   ]
  },
  {
   "cell_type": "code",
   "execution_count": 47,
   "metadata": {},
   "outputs": [],
   "source": [
    "df = df.drop_duplicates()"
   ]
  },
  {
   "attachments": {},
   "cell_type": "markdown",
   "metadata": {},
   "source": [
    "## Неявные дубликаты"
   ]
  },
  {
   "attachments": {},
   "cell_type": "markdown",
   "metadata": {},
   "source": [
    "Так как в категориальных признаках очень много уникальных данных, будет сложно вручную просмотреть их всех и выявить неявные дубликаты, поэтому пока оставим их"
   ]
  },
  {
   "attachments": {},
   "cell_type": "markdown",
   "metadata": {},
   "source": [
    "## Создание синтетических признаков"
   ]
  },
  {
   "attachments": {},
   "cell_type": "markdown",
   "metadata": {},
   "source": [
    "Возможно для модели пригодится возраст автомобиля - разница между годом продажи и годом выпуска"
   ]
  },
  {
   "cell_type": "code",
   "execution_count": 48,
   "metadata": {},
   "outputs": [],
   "source": [
    "df['age'] = df['sale_year']-df['year']"
   ]
  },
  {
   "attachments": {},
   "cell_type": "markdown",
   "metadata": {},
   "source": [
    "Также может пригодится \"интенсивность\" - отношение пройденного расстояния к возрасту автомобиля может показать, насколько активно использовали автомобиль"
   ]
  },
  {
   "cell_type": "code",
   "execution_count": 49,
   "metadata": {},
   "outputs": [],
   "source": [
    "def make_intense(row):\n",
    "    if(row['age']>0):\n",
    "        return row['odometer']/row['age']\n",
    "    return row['odometer']"
   ]
  },
  {
   "cell_type": "code",
   "execution_count": 50,
   "metadata": {},
   "outputs": [],
   "source": [
    "df['intense'] = df.apply(make_intense,axis=1)"
   ]
  },
  {
   "attachments": {},
   "cell_type": "markdown",
   "metadata": {},
   "source": [
    "## Анализ данных"
   ]
  },
  {
   "cell_type": "code",
   "execution_count": 51,
   "metadata": {},
   "outputs": [],
   "source": [
    "#ProfileReport(df)"
   ]
  },
  {
   "cell_type": "code",
   "execution_count": 52,
   "metadata": {},
   "outputs": [
    {
     "data": {
      "image/png": "[encoded data removed]",
      "text/plain": [
       "<Figure size 1000x500 with 2 Axes>"
      ]
     },
     "metadata": {},
     "output_type": "display_data"
    }
   ],
   "source": [
    "corr = df.corr()\n",
    "matrix = np.triu(corr)\n",
    "\n",
    "plt.figure(figsize=(10,5))\n",
    "sns.heatmap(corr,mask=matrix,annot=True).set(title='Корреляция между колличественными признаками');\n",
    "plt.show()"
   ]
  },
  {
   "attachments": {},
   "cell_type": "markdown",
   "metadata": {},
   "source": [
    "Исходя из матрицы корреляции можно сделать вывод, что целевой признак сильно коррелирует с: годом выпуска автомобиля, состоянием автомобиля, пройденным расстоянием и возрастом. При этом возраст линейно отрицательно коррелирует с годом производства. При использовании моделей линейной регрессии стоит убрать один из этих признаков, чтобы исключить мультиколлинеарность."
   ]
  },
  {
   "attachments": {},
   "cell_type": "markdown",
   "metadata": {},
   "source": [
    "Для оценки влияния категориальных признаков на целевой признак, проведем однофакторный дисперсионный анализ"
   ]
  },
  {
   "cell_type": "code",
   "execution_count": 53,
   "metadata": {},
   "outputs": [],
   "source": [
    "def create_fs(column_names):\n",
    "    f_df = pd.DataFrame()\n",
    "    for col in column_names:\n",
    "        groups = [group['sellingprice'].values for name, group in df.groupby(col)]\n",
    "        f_val, p_val = stats.f_oneway(*groups)\n",
    "        f_df[col] = [f_val]\n",
    "    f_df.index = ['F-val']\n",
    "    return f_df"
   ]
  },
  {
   "cell_type": "code",
   "execution_count": 54,
   "metadata": {},
   "outputs": [
    {
     "data": {
      "text/plain": [
       "<AxesSubplot: >"
      ]
     },
     "execution_count": 54,
     "metadata": {},
     "output_type": "execute_result"
    },
    {
     "data": {
      "image/png": "[encoded data removed]",
      "text/plain": [
       "<Figure size 800x200 with 2 Axes>"
      ]
     },
     "metadata": {},
     "output_type": "display_data"
    }
   ],
   "source": [
    "plt.figure(figsize=(8,2))\n",
    "sns.heatmap(create_fs(['make','body','model','trim','state','color','interior','seller']),annot=True)"
   ]
  },
  {
   "attachments": {},
   "cell_type": "markdown",
   "metadata": {},
   "source": [
    "Исходя из F-значения, все категориальные признаки сильно влияют на цену автомобиля. Больше всего make - марка автомобиля, меньше всего seller - продавец (F-значения для make в 56 раз больше, чем для seller,в seller намного больше групп)"
   ]
  },
  {
   "attachments": {},
   "cell_type": "markdown",
   "metadata": {},
   "source": [
    "## Создание модели"
   ]
  },
  {
   "attachments": {},
   "cell_type": "markdown",
   "metadata": {},
   "source": [
    "Из-за большого количества категориальных признаков и большого количества уникальных значений в этих признаков не стоит использовать линейную регрессию. Поэтому будем использовать RandomForestRegressor или HistGradientBoostingRegressor"
   ]
  },
  {
   "cell_type": "code",
   "execution_count": 55,
   "metadata": {},
   "outputs": [],
   "source": [
    "def generate_synthetic_data(df,target, target_threshold_start=20000,target_threshold_end=20000,count=500):\n",
    "    df_majority = df[(df[target] <= target_threshold_start) | (df[target] >= target_threshold_end)]\n",
    "\n",
    "    df_minority = df[(df[target] > target_threshold_start) & (df[target] < target_threshold_end)]\n",
    "\n",
    "\n",
    "    synthetic_samples = max(0,count-len(df_minority))\n",
    "\n",
    "    df_synthetic = df_minority.sample(n=synthetic_samples, replace=True, random_state=42)\n",
    "\n",
    "    return df_synthetic"
   ]
  },
  {
   "cell_type": "code",
   "execution_count": 56,
   "metadata": {},
   "outputs": [],
   "source": [
    "from sklearn.utils import shuffle"
   ]
  },
  {
   "cell_type": "code",
   "execution_count": 57,
   "metadata": {},
   "outputs": [],
   "source": [
    "global_target_d = {}"
   ]
  },
  {
   "attachments": {},
   "cell_type": "markdown",
   "metadata": {},
   "source": [
    "После тренировки нескольких моделей было выявлено, что для некоторых категориальных признаков стоит применить Target encoding - замену их значений на средние значения целевого признака в их группе"
   ]
  },
  {
   "cell_type": "code",
   "execution_count": 58,
   "metadata": {},
   "outputs": [],
   "source": [
    "def fill_target_encoding(column):\n",
    "    if(column not in global_target_d):\n",
    "        global_target_d[column] = {}\n",
    "    def apply_encoding(v,column):\n",
    "        if(v not in global_target_d[column]):\n",
    "            global_target_d[column][v] = df[df[column]==v]['sellingprice'].mean()\n",
    "            #global_target_d[column][v] = sum(df[column]==v)/len(df[column])\n",
    "        return global_target_d[column][v]\n",
    "    return df[column].apply(apply_encoding,column=column)"
   ]
  },
  {
   "cell_type": "code",
   "execution_count": 59,
   "metadata": {},
   "outputs": [],
   "source": [
    "def target_encoding(column):\n",
    "    def apply_encoding(v,column):\n",
    "        if(v not in global_target_d[column]):\n",
    "            return -1\n",
    "        return global_target_d[column][v]\n",
    "    return df[column].apply(apply_encoding,column=column)"
   ]
  },
  {
   "cell_type": "code",
   "execution_count": 60,
   "metadata": {},
   "outputs": [
    {
     "data": {
      "text/html": [
       "<div>\n",
       "<style scoped>\n",
       "    .dataframe tbody tr th:only-of-type {\n",
       "        vertical-align: middle;\n",
       "    }\n",
       "\n",
       "    .dataframe tbody tr th {\n",
       "        vertical-align: top;\n",
       "    }\n",
       "\n",
       "    .dataframe thead th {\n",
       "        text-align: right;\n",
       "    }\n",
       "</style>\n",
       "<table border=\"1\" class=\"dataframe\">\n",
       "  <thead>\n",
       "    <tr style=\"text-align: right;\">\n",
       "      <th></th>\n",
       "      <th>year</th>\n",
       "      <th>make</th>\n",
       "      <th>model</th>\n",
       "      <th>trim</th>\n",
       "      <th>body</th>\n",
       "      <th>transmission</th>\n",
       "      <th>state</th>\n",
       "      <th>condition</th>\n",
       "      <th>odometer</th>\n",
       "      <th>color</th>\n",
       "      <th>interior</th>\n",
       "      <th>seller</th>\n",
       "      <th>sellingprice</th>\n",
       "      <th>month</th>\n",
       "      <th>day</th>\n",
       "      <th>dow</th>\n",
       "      <th>hour</th>\n",
       "      <th>sale_year</th>\n",
       "      <th>age</th>\n",
       "      <th>intense</th>\n",
       "    </tr>\n",
       "  </thead>\n",
       "  <tbody>\n",
       "    <tr>\n",
       "      <th>0</th>\n",
       "      <td>2011</td>\n",
       "      <td>ford</td>\n",
       "      <td>edge</td>\n",
       "      <td>sel</td>\n",
       "      <td>suv</td>\n",
       "      <td>True</td>\n",
       "      <td>md</td>\n",
       "      <td>4.2</td>\n",
       "      <td>111041.0</td>\n",
       "      <td>black</td>\n",
       "      <td>black</td>\n",
       "      <td>santander consumer</td>\n",
       "      <td>12500</td>\n",
       "      <td>6</td>\n",
       "      <td>2</td>\n",
       "      <td>1</td>\n",
       "      <td>2</td>\n",
       "      <td>2015</td>\n",
       "      <td>4</td>\n",
       "      <td>27760.250000</td>\n",
       "    </tr>\n",
       "    <tr>\n",
       "      <th>1</th>\n",
       "      <td>2014</td>\n",
       "      <td>ford</td>\n",
       "      <td>fusion</td>\n",
       "      <td>se</td>\n",
       "      <td>sedan</td>\n",
       "      <td>True</td>\n",
       "      <td>mo</td>\n",
       "      <td>3.5</td>\n",
       "      <td>31034.0</td>\n",
       "      <td>black</td>\n",
       "      <td>black</td>\n",
       "      <td>ars/avis budget group</td>\n",
       "      <td>14500</td>\n",
       "      <td>2</td>\n",
       "      <td>25</td>\n",
       "      <td>2</td>\n",
       "      <td>2</td>\n",
       "      <td>2015</td>\n",
       "      <td>1</td>\n",
       "      <td>31034.000000</td>\n",
       "    </tr>\n",
       "    <tr>\n",
       "      <th>2</th>\n",
       "      <td>2012</td>\n",
       "      <td>nissan</td>\n",
       "      <td>sentra</td>\n",
       "      <td>2.0 sl</td>\n",
       "      <td>sedan</td>\n",
       "      <td>True</td>\n",
       "      <td>nj</td>\n",
       "      <td>2.2</td>\n",
       "      <td>35619.0</td>\n",
       "      <td>black</td>\n",
       "      <td>black</td>\n",
       "      <td>nissan-infiniti lt</td>\n",
       "      <td>9100</td>\n",
       "      <td>6</td>\n",
       "      <td>10</td>\n",
       "      <td>2</td>\n",
       "      <td>2</td>\n",
       "      <td>2015</td>\n",
       "      <td>3</td>\n",
       "      <td>11873.000000</td>\n",
       "    </tr>\n",
       "    <tr>\n",
       "      <th>3</th>\n",
       "      <td>2003</td>\n",
       "      <td>hummer</td>\n",
       "      <td>h2</td>\n",
       "      <td>base</td>\n",
       "      <td>suv</td>\n",
       "      <td>True</td>\n",
       "      <td>tx</td>\n",
       "      <td>2.8</td>\n",
       "      <td>131301.0</td>\n",
       "      <td>gold</td>\n",
       "      <td>beige</td>\n",
       "      <td>wichita falls ford lin inc</td>\n",
       "      <td>13300</td>\n",
       "      <td>6</td>\n",
       "      <td>17</td>\n",
       "      <td>2</td>\n",
       "      <td>3</td>\n",
       "      <td>2015</td>\n",
       "      <td>12</td>\n",
       "      <td>10941.750000</td>\n",
       "    </tr>\n",
       "    <tr>\n",
       "      <th>4</th>\n",
       "      <td>2007</td>\n",
       "      <td>ford</td>\n",
       "      <td>fusion</td>\n",
       "      <td>sel</td>\n",
       "      <td>sedan</td>\n",
       "      <td>True</td>\n",
       "      <td>md</td>\n",
       "      <td>2.0</td>\n",
       "      <td>127709.0</td>\n",
       "      <td>black</td>\n",
       "      <td>black</td>\n",
       "      <td>purple heart</td>\n",
       "      <td>1300</td>\n",
       "      <td>2</td>\n",
       "      <td>3</td>\n",
       "      <td>1</td>\n",
       "      <td>4</td>\n",
       "      <td>2015</td>\n",
       "      <td>8</td>\n",
       "      <td>15963.625000</td>\n",
       "    </tr>\n",
       "    <tr>\n",
       "      <th>...</th>\n",
       "      <td>...</td>\n",
       "      <td>...</td>\n",
       "      <td>...</td>\n",
       "      <td>...</td>\n",
       "      <td>...</td>\n",
       "      <td>...</td>\n",
       "      <td>...</td>\n",
       "      <td>...</td>\n",
       "      <td>...</td>\n",
       "      <td>...</td>\n",
       "      <td>...</td>\n",
       "      <td>...</td>\n",
       "      <td>...</td>\n",
       "      <td>...</td>\n",
       "      <td>...</td>\n",
       "      <td>...</td>\n",
       "      <td>...</td>\n",
       "      <td>...</td>\n",
       "      <td>...</td>\n",
       "      <td>...</td>\n",
       "    </tr>\n",
       "    <tr>\n",
       "      <th>440101</th>\n",
       "      <td>2013</td>\n",
       "      <td>kia</td>\n",
       "      <td>optima</td>\n",
       "      <td>ex hybrid</td>\n",
       "      <td>sedan</td>\n",
       "      <td>True</td>\n",
       "      <td>ca</td>\n",
       "      <td>4.5</td>\n",
       "      <td>20434.0</td>\n",
       "      <td>white</td>\n",
       "      <td>beige</td>\n",
       "      <td>kia motors america, inc</td>\n",
       "      <td>16000</td>\n",
       "      <td>1</td>\n",
       "      <td>20</td>\n",
       "      <td>1</td>\n",
       "      <td>4</td>\n",
       "      <td>2015</td>\n",
       "      <td>2</td>\n",
       "      <td>10217.000000</td>\n",
       "    </tr>\n",
       "    <tr>\n",
       "      <th>440102</th>\n",
       "      <td>2014</td>\n",
       "      <td>mini</td>\n",
       "      <td>cooper countryman</td>\n",
       "      <td>s all4</td>\n",
       "      <td>wagon</td>\n",
       "      <td>True</td>\n",
       "      <td>wi</td>\n",
       "      <td>2.9</td>\n",
       "      <td>14675.0</td>\n",
       "      <td>white</td>\n",
       "      <td>black</td>\n",
       "      <td>bmw mini financial services</td>\n",
       "      <td>24250</td>\n",
       "      <td>2</td>\n",
       "      <td>11</td>\n",
       "      <td>2</td>\n",
       "      <td>2</td>\n",
       "      <td>2015</td>\n",
       "      <td>1</td>\n",
       "      <td>14675.000000</td>\n",
       "    </tr>\n",
       "    <tr>\n",
       "      <th>440103</th>\n",
       "      <td>2008</td>\n",
       "      <td>bmw</td>\n",
       "      <td>6 series</td>\n",
       "      <td>650i</td>\n",
       "      <td>coupe</td>\n",
       "      <td>True</td>\n",
       "      <td>ca</td>\n",
       "      <td>3.7</td>\n",
       "      <td>102552.0</td>\n",
       "      <td>gray</td>\n",
       "      <td>black</td>\n",
       "      <td>studio city auto group</td>\n",
       "      <td>16750</td>\n",
       "      <td>3</td>\n",
       "      <td>3</td>\n",
       "      <td>1</td>\n",
       "      <td>4</td>\n",
       "      <td>2015</td>\n",
       "      <td>7</td>\n",
       "      <td>14650.285714</td>\n",
       "    </tr>\n",
       "    <tr>\n",
       "      <th>440104</th>\n",
       "      <td>2014</td>\n",
       "      <td>ram</td>\n",
       "      <td>2500</td>\n",
       "      <td>slt</td>\n",
       "      <td>crew cab</td>\n",
       "      <td>True</td>\n",
       "      <td>tx</td>\n",
       "      <td>3.0</td>\n",
       "      <td>29367.0</td>\n",
       "      <td>white</td>\n",
       "      <td>gray</td>\n",
       "      <td>express car &amp; truck rental</td>\n",
       "      <td>33000</td>\n",
       "      <td>1</td>\n",
       "      <td>14</td>\n",
       "      <td>2</td>\n",
       "      <td>2</td>\n",
       "      <td>2015</td>\n",
       "      <td>1</td>\n",
       "      <td>29367.000000</td>\n",
       "    </tr>\n",
       "    <tr>\n",
       "      <th>440105</th>\n",
       "      <td>2013</td>\n",
       "      <td>nissan</td>\n",
       "      <td>rogue</td>\n",
       "      <td>sv</td>\n",
       "      <td>suv</td>\n",
       "      <td>True</td>\n",
       "      <td>il</td>\n",
       "      <td>3.5</td>\n",
       "      <td>27924.0</td>\n",
       "      <td>silver</td>\n",
       "      <td>gray</td>\n",
       "      <td>ec sales,llc</td>\n",
       "      <td>14500</td>\n",
       "      <td>1</td>\n",
       "      <td>15</td>\n",
       "      <td>3</td>\n",
       "      <td>2</td>\n",
       "      <td>2015</td>\n",
       "      <td>2</td>\n",
       "      <td>13962.000000</td>\n",
       "    </tr>\n",
       "  </tbody>\n",
       "</table>\n",
       "<p>440106 rows × 20 columns</p>\n",
       "</div>"
      ],
      "text/plain": [
       "        year    make              model       trim      body  transmission  \\\n",
       "0       2011    ford               edge        sel       suv          True   \n",
       "1       2014    ford             fusion         se     sedan          True   \n",
       "2       2012  nissan             sentra     2.0 sl     sedan          True   \n",
       "3       2003  hummer                 h2       base       suv          True   \n",
       "4       2007    ford             fusion        sel     sedan          True   \n",
       "...      ...     ...                ...        ...       ...           ...   \n",
       "440101  2013     kia             optima  ex hybrid     sedan          True   \n",
       "440102  2014    mini  cooper countryman     s all4     wagon          True   \n",
       "440103  2008     bmw           6 series       650i     coupe          True   \n",
       "440104  2014     ram               2500        slt  crew cab          True   \n",
       "440105  2013  nissan              rogue         sv       suv          True   \n",
       "\n",
       "       state  condition  odometer   color interior  \\\n",
       "0         md        4.2  111041.0   black    black   \n",
       "1         mo        3.5   31034.0   black    black   \n",
       "2         nj        2.2   35619.0   black    black   \n",
       "3         tx        2.8  131301.0    gold    beige   \n",
       "4         md        2.0  127709.0   black    black   \n",
       "...      ...        ...       ...     ...      ...   \n",
       "440101    ca        4.5   20434.0   white    beige   \n",
       "440102    wi        2.9   14675.0   white    black   \n",
       "440103    ca        3.7  102552.0    gray    black   \n",
       "440104    tx        3.0   29367.0   white     gray   \n",
       "440105    il        3.5   27924.0  silver     gray   \n",
       "\n",
       "                             seller  sellingprice  month  day  dow  hour  \\\n",
       "0                santander consumer         12500      6    2    1     2   \n",
       "1             ars/avis budget group         14500      2   25    2     2   \n",
       "2                nissan-infiniti lt          9100      6   10    2     2   \n",
       "3        wichita falls ford lin inc         13300      6   17    2     3   \n",
       "4                      purple heart          1300      2    3    1     4   \n",
       "...                             ...           ...    ...  ...  ...   ...   \n",
       "440101      kia motors america, inc         16000      1   20    1     4   \n",
       "440102  bmw mini financial services         24250      2   11    2     2   \n",
       "440103       studio city auto group         16750      3    3    1     4   \n",
       "440104   express car & truck rental         33000      1   14    2     2   \n",
       "440105                 ec sales,llc         14500      1   15    3     2   \n",
       "\n",
       "        sale_year  age       intense  \n",
       "0            2015    4  27760.250000  \n",
       "1            2015    1  31034.000000  \n",
       "2            2015    3  11873.000000  \n",
       "3            2015   12  10941.750000  \n",
       "4            2015    8  15963.625000  \n",
       "...           ...  ...           ...  \n",
       "440101       2015    2  10217.000000  \n",
       "440102       2015    1  14675.000000  \n",
       "440103       2015    7  14650.285714  \n",
       "440104       2015    1  29367.000000  \n",
       "440105       2015    2  13962.000000  \n",
       "\n",
       "[440106 rows x 20 columns]"
      ]
     },
     "execution_count": 60,
     "metadata": {},
     "output_type": "execute_result"
    }
   ],
   "source": [
    "df"
   ]
  },
  {
   "attachments": {},
   "cell_type": "markdown",
   "metadata": {},
   "source": [
    "Подготовка признаков. После тренировки модели были удалены признаки, которые ухудшали результат"
   ]
  },
  {
   "cell_type": "code",
   "execution_count": 61,
   "metadata": {},
   "outputs": [],
   "source": [
    "features_list = list(df.columns)\n",
    "target_name = 'sellingprice'\n",
    "features_list.remove('year')\n",
    "features_list.remove('sale_year')\n",
    "features_list.remove('transmission')\n",
    "features_list.remove('hour')\n",
    "features_list.remove('intense')\n",
    "features_list.remove('sellingprice')"
   ]
  },
  {
   "cell_type": "code",
   "execution_count": 62,
   "metadata": {},
   "outputs": [],
   "source": [
    "def data_trunc(df,column_name,threshold):\n",
    "    c=df[column_name].value_counts()/(len(df))\n",
    "    df[column_name].value_counts()\n",
    "    def apply_func(v):\n",
    "        return c[v]>threshold\n",
    "    return df[column_name].apply(apply_func)\n",
    "\n"
   ]
  },
  {
   "cell_type": "code",
   "execution_count": 63,
   "metadata": {},
   "outputs": [
    {
     "data": {
      "text/plain": [
       "440106"
      ]
     },
     "execution_count": 63,
     "metadata": {},
     "output_type": "execute_result"
    }
   ],
   "source": [
    "len(df)"
   ]
  },
  {
   "attachments": {},
   "cell_type": "markdown",
   "metadata": {},
   "source": [
    "Основная проблема в датасете - множество комбинаций категориальных данных. После обучения модели есть большой шанс, что в валидационной выборке присутствуют автомобили с уникальной комбинацией категориальных признаков, из-за чего невозможно точно предсказать их цену. В дальнейшем будет показано, что с падением плотности объектов на графике растет дисперсия ошибки.\n",
    "\n",
    "Одним из способ борьбы с этим, удалить уникальные комбинации из датасета, а именно удалить автомобили, у которых категориальные признаки являются \"редкими\" - их отношение к общему числу автомобилей меньше заданного значения (к примеру 0.2%)"
   ]
  },
  {
   "cell_type": "code",
   "execution_count": 64,
   "metadata": {},
   "outputs": [],
   "source": [
    "#masks = []\n",
    "#masks.append(data_trunc(df,'body',0.01))\n",
    "#masks.append(data_trunc(df,'model',0.002))\n",
    "#masks.append(data_trunc(df,'trim',0.002))\n",
    "\n",
    "#mask = functools.reduce(operator.__and__,masks)\n",
    "#df = df[mask]"
   ]
  },
  {
   "cell_type": "code",
   "execution_count": 65,
   "metadata": {},
   "outputs": [
    {
     "data": {
      "text/plain": [
       "440106"
      ]
     },
     "execution_count": 65,
     "metadata": {},
     "output_type": "execute_result"
    }
   ],
   "source": [
    "len(df)"
   ]
  },
  {
   "cell_type": "code",
   "execution_count": 66,
   "metadata": {},
   "outputs": [],
   "source": [
    "df_train,df_valid = train_test_split(shuffle(df,random_state=42),test_size=0.25,random_state=random_state)"
   ]
  },
  {
   "cell_type": "code",
   "execution_count": 67,
   "metadata": {},
   "outputs": [],
   "source": [
    "#df_train1 = generate_synthetic_data(df_train,'sellingprice',30_000,50_000,100_000)\n",
    "#df_train2 = generate_synthetic_data(df_train,'sellingprice',50_000,75_000,50_000)\n",
    "#df_train3 = generate_synthetic_data(df_train,'sellingprice',75_000,150_000,20_000)\n",
    "\n",
    "#df_train = pd.concat([df_train1,df_train2,df_train3,df_train])\n",
    "\n",
    "#del df_train1\n",
    "#del df_train2\n",
    "#del df_train3\n",
    "\n",
    "#df_train = shuffle(df_train,random_state=random_state)"
   ]
  },
  {
   "attachments": {},
   "cell_type": "markdown",
   "metadata": {},
   "source": [
    "Target encoding четырех признаков"
   ]
  },
  {
   "cell_type": "code",
   "execution_count": 68,
   "metadata": {},
   "outputs": [],
   "source": [
    "#df_train['make'] = fill_target_encoding('make')\n",
    "#df_train['model'] = fill_target_encoding('model')\n",
    "#df_train['body'] = fill_target_encoding('body')\n",
    "#df_train['state'] = fill_target_encoding('state')"
   ]
  },
  {
   "cell_type": "code",
   "execution_count": 69,
   "metadata": {},
   "outputs": [],
   "source": [
    "#df_train['make'] = target_encoding('make')\n",
    "#df_train['model'] = target_encoding('model')\n",
    "#df_train['body'] = target_encoding('body')\n",
    "#df_train['state'] = target_encoding('state')"
   ]
  },
  {
   "cell_type": "code",
   "execution_count": 70,
   "metadata": {},
   "outputs": [],
   "source": [
    "#df_valid['make'] = target_encoding('make')\n",
    "#df_valid['model'] = target_encoding('model')\n",
    "#df_valid['body'] = target_encoding('body')\n",
    "#df_valid['state'] = target_encoding('state')"
   ]
  },
  {
   "cell_type": "code",
   "execution_count": 71,
   "metadata": {},
   "outputs": [],
   "source": [
    "features = df_train[features_list]\n",
    "target = df_train[target_name]"
   ]
  },
  {
   "cell_type": "code",
   "execution_count": 72,
   "metadata": {},
   "outputs": [],
   "source": [
    "#features_train,features_valid,target_train,target_valid = train_test_split(features,target,test_size=0.25,random_state=random_state)\n",
    "#features_train = features_train.reset_index(drop=True)\n",
    "#features_valid = features_valid.reset_index(drop=True)\n",
    "#target_train = target_train.reset_index(drop=True)\n",
    "#target_valid = target_valid.reset_index(drop=True)"
   ]
  },
  {
   "cell_type": "code",
   "execution_count": 73,
   "metadata": {},
   "outputs": [],
   "source": [
    "df_train = df_train.reset_index(drop=True)"
   ]
  },
  {
   "attachments": {},
   "cell_type": "markdown",
   "metadata": {},
   "source": [
    "После тренировки модели с использованием RandomizedSearchCV были выявлены лучшие гиперпараметры для модели"
   ]
  },
  {
   "cell_type": "code",
   "execution_count": 74,
   "metadata": {},
   "outputs": [],
   "source": [
    "from catboost import CatBoostRegressor"
   ]
  },
  {
   "cell_type": "code",
   "execution_count": 75,
   "metadata": {},
   "outputs": [
    {
     "data": {
      "text/html": [
       "<div>\n",
       "<style scoped>\n",
       "    .dataframe tbody tr th:only-of-type {\n",
       "        vertical-align: middle;\n",
       "    }\n",
       "\n",
       "    .dataframe tbody tr th {\n",
       "        vertical-align: top;\n",
       "    }\n",
       "\n",
       "    .dataframe thead th {\n",
       "        text-align: right;\n",
       "    }\n",
       "</style>\n",
       "<table border=\"1\" class=\"dataframe\">\n",
       "  <thead>\n",
       "    <tr style=\"text-align: right;\">\n",
       "      <th></th>\n",
       "      <th>year</th>\n",
       "      <th>make</th>\n",
       "      <th>model</th>\n",
       "      <th>trim</th>\n",
       "      <th>body</th>\n",
       "      <th>transmission</th>\n",
       "      <th>state</th>\n",
       "      <th>condition</th>\n",
       "      <th>odometer</th>\n",
       "      <th>color</th>\n",
       "      <th>interior</th>\n",
       "      <th>seller</th>\n",
       "      <th>sellingprice</th>\n",
       "      <th>month</th>\n",
       "      <th>day</th>\n",
       "      <th>dow</th>\n",
       "      <th>hour</th>\n",
       "      <th>sale_year</th>\n",
       "      <th>age</th>\n",
       "      <th>intense</th>\n",
       "    </tr>\n",
       "  </thead>\n",
       "  <tbody>\n",
       "    <tr>\n",
       "      <th>0</th>\n",
       "      <td>2013</td>\n",
       "      <td>infiniti</td>\n",
       "      <td>g sedan</td>\n",
       "      <td>g37x</td>\n",
       "      <td>g sedan</td>\n",
       "      <td>True</td>\n",
       "      <td>ga</td>\n",
       "      <td>4.5</td>\n",
       "      <td>8232.0</td>\n",
       "      <td>gray</td>\n",
       "      <td>black</td>\n",
       "      <td>nissan infiniti lt</td>\n",
       "      <td>23200</td>\n",
       "      <td>3</td>\n",
       "      <td>3</td>\n",
       "      <td>1</td>\n",
       "      <td>1</td>\n",
       "      <td>2015</td>\n",
       "      <td>2</td>\n",
       "      <td>4116.000000</td>\n",
       "    </tr>\n",
       "    <tr>\n",
       "      <th>1</th>\n",
       "      <td>2013</td>\n",
       "      <td>chevrolet</td>\n",
       "      <td>impala</td>\n",
       "      <td>ls fleet</td>\n",
       "      <td>sedan</td>\n",
       "      <td>True</td>\n",
       "      <td>ca</td>\n",
       "      <td>3.2</td>\n",
       "      <td>59364.0</td>\n",
       "      <td>red</td>\n",
       "      <td>black</td>\n",
       "      <td>dtg operations inc</td>\n",
       "      <td>9000</td>\n",
       "      <td>6</td>\n",
       "      <td>10</td>\n",
       "      <td>2</td>\n",
       "      <td>5</td>\n",
       "      <td>2015</td>\n",
       "      <td>2</td>\n",
       "      <td>29682.000000</td>\n",
       "    </tr>\n",
       "    <tr>\n",
       "      <th>2</th>\n",
       "      <td>2014</td>\n",
       "      <td>lincoln</td>\n",
       "      <td>navigator</td>\n",
       "      <td>base</td>\n",
       "      <td>suv</td>\n",
       "      <td>True</td>\n",
       "      <td>mo</td>\n",
       "      <td>4.0</td>\n",
       "      <td>30231.0</td>\n",
       "      <td>black</td>\n",
       "      <td>black</td>\n",
       "      <td>ars/avis budget group</td>\n",
       "      <td>41000</td>\n",
       "      <td>2</td>\n",
       "      <td>17</td>\n",
       "      <td>1</td>\n",
       "      <td>3</td>\n",
       "      <td>2015</td>\n",
       "      <td>1</td>\n",
       "      <td>30231.000000</td>\n",
       "    </tr>\n",
       "    <tr>\n",
       "      <th>3</th>\n",
       "      <td>2006</td>\n",
       "      <td>acura</td>\n",
       "      <td>tl</td>\n",
       "      <td>base</td>\n",
       "      <td>sedan</td>\n",
       "      <td>True</td>\n",
       "      <td>ca</td>\n",
       "      <td>2.0</td>\n",
       "      <td>291489.0</td>\n",
       "      <td>black</td>\n",
       "      <td>black</td>\n",
       "      <td>hoehn motors inc</td>\n",
       "      <td>3500</td>\n",
       "      <td>1</td>\n",
       "      <td>7</td>\n",
       "      <td>2</td>\n",
       "      <td>12</td>\n",
       "      <td>2015</td>\n",
       "      <td>9</td>\n",
       "      <td>32387.666667</td>\n",
       "    </tr>\n",
       "    <tr>\n",
       "      <th>4</th>\n",
       "      <td>2012</td>\n",
       "      <td>infiniti</td>\n",
       "      <td>g sedan</td>\n",
       "      <td>g37x</td>\n",
       "      <td>g sedan</td>\n",
       "      <td>True</td>\n",
       "      <td>co</td>\n",
       "      <td>2.8</td>\n",
       "      <td>25291.0</td>\n",
       "      <td>white</td>\n",
       "      <td>black</td>\n",
       "      <td>infiniti financial services</td>\n",
       "      <td>22400</td>\n",
       "      <td>2</td>\n",
       "      <td>4</td>\n",
       "      <td>2</td>\n",
       "      <td>4</td>\n",
       "      <td>2015</td>\n",
       "      <td>3</td>\n",
       "      <td>8430.333333</td>\n",
       "    </tr>\n",
       "    <tr>\n",
       "      <th>...</th>\n",
       "      <td>...</td>\n",
       "      <td>...</td>\n",
       "      <td>...</td>\n",
       "      <td>...</td>\n",
       "      <td>...</td>\n",
       "      <td>...</td>\n",
       "      <td>...</td>\n",
       "      <td>...</td>\n",
       "      <td>...</td>\n",
       "      <td>...</td>\n",
       "      <td>...</td>\n",
       "      <td>...</td>\n",
       "      <td>...</td>\n",
       "      <td>...</td>\n",
       "      <td>...</td>\n",
       "      <td>...</td>\n",
       "      <td>...</td>\n",
       "      <td>...</td>\n",
       "      <td>...</td>\n",
       "      <td>...</td>\n",
       "    </tr>\n",
       "    <tr>\n",
       "      <th>330074</th>\n",
       "      <td>2001</td>\n",
       "      <td>buick</td>\n",
       "      <td>park avenue</td>\n",
       "      <td>base</td>\n",
       "      <td>sedan</td>\n",
       "      <td>True</td>\n",
       "      <td>va</td>\n",
       "      <td>1.9</td>\n",
       "      <td>191168.0</td>\n",
       "      <td>white</td>\n",
       "      <td>gray</td>\n",
       "      <td>don beyer volvo subaru kia of alexandria</td>\n",
       "      <td>600</td>\n",
       "      <td>3</td>\n",
       "      <td>5</td>\n",
       "      <td>3</td>\n",
       "      <td>1</td>\n",
       "      <td>2015</td>\n",
       "      <td>14</td>\n",
       "      <td>13654.857143</td>\n",
       "    </tr>\n",
       "    <tr>\n",
       "      <th>330075</th>\n",
       "      <td>2011</td>\n",
       "      <td>gmc</td>\n",
       "      <td>terrain</td>\n",
       "      <td>sle-2</td>\n",
       "      <td>suv</td>\n",
       "      <td>True</td>\n",
       "      <td>tx</td>\n",
       "      <td>4.0</td>\n",
       "      <td>77530.0</td>\n",
       "      <td>black</td>\n",
       "      <td>gray</td>\n",
       "      <td>hopper motorplex inc</td>\n",
       "      <td>13600</td>\n",
       "      <td>6</td>\n",
       "      <td>17</td>\n",
       "      <td>2</td>\n",
       "      <td>3</td>\n",
       "      <td>2015</td>\n",
       "      <td>4</td>\n",
       "      <td>19382.500000</td>\n",
       "    </tr>\n",
       "    <tr>\n",
       "      <th>330076</th>\n",
       "      <td>2012</td>\n",
       "      <td>acura</td>\n",
       "      <td>tl</td>\n",
       "      <td>base</td>\n",
       "      <td>sedan</td>\n",
       "      <td>True</td>\n",
       "      <td>il</td>\n",
       "      <td>4.4</td>\n",
       "      <td>40007.0</td>\n",
       "      <td>black</td>\n",
       "      <td>black</td>\n",
       "      <td>ahfc/honda lease/trust/hvt, inc. eot acuras</td>\n",
       "      <td>19100</td>\n",
       "      <td>3</td>\n",
       "      <td>5</td>\n",
       "      <td>3</td>\n",
       "      <td>2</td>\n",
       "      <td>2015</td>\n",
       "      <td>3</td>\n",
       "      <td>13335.666667</td>\n",
       "    </tr>\n",
       "    <tr>\n",
       "      <th>330077</th>\n",
       "      <td>2014</td>\n",
       "      <td>audi</td>\n",
       "      <td>a5</td>\n",
       "      <td>2.0t premium quattro</td>\n",
       "      <td>coupe</td>\n",
       "      <td>True</td>\n",
       "      <td>nv</td>\n",
       "      <td>4.6</td>\n",
       "      <td>21721.0</td>\n",
       "      <td>white</td>\n",
       "      <td>black</td>\n",
       "      <td>autofinders inc</td>\n",
       "      <td>29750</td>\n",
       "      <td>5</td>\n",
       "      <td>22</td>\n",
       "      <td>4</td>\n",
       "      <td>5</td>\n",
       "      <td>2015</td>\n",
       "      <td>1</td>\n",
       "      <td>21721.000000</td>\n",
       "    </tr>\n",
       "    <tr>\n",
       "      <th>330078</th>\n",
       "      <td>2014</td>\n",
       "      <td>chevrolet</td>\n",
       "      <td>impala limited</td>\n",
       "      <td>ltz fleet</td>\n",
       "      <td>sedan</td>\n",
       "      <td>True</td>\n",
       "      <td>ca</td>\n",
       "      <td>1.0</td>\n",
       "      <td>13935.0</td>\n",
       "      <td>white</td>\n",
       "      <td>black</td>\n",
       "      <td>enterprise vehicle exchange / tra / rental / t...</td>\n",
       "      <td>7400</td>\n",
       "      <td>6</td>\n",
       "      <td>2</td>\n",
       "      <td>1</td>\n",
       "      <td>6</td>\n",
       "      <td>2015</td>\n",
       "      <td>1</td>\n",
       "      <td>13935.000000</td>\n",
       "    </tr>\n",
       "  </tbody>\n",
       "</table>\n",
       "<p>330079 rows × 20 columns</p>\n",
       "</div>"
      ],
      "text/plain": [
       "        year       make           model                  trim     body  \\\n",
       "0       2013   infiniti         g sedan                  g37x  g sedan   \n",
       "1       2013  chevrolet          impala              ls fleet    sedan   \n",
       "2       2014    lincoln       navigator                  base      suv   \n",
       "3       2006      acura              tl                  base    sedan   \n",
       "4       2012   infiniti         g sedan                  g37x  g sedan   \n",
       "...      ...        ...             ...                   ...      ...   \n",
       "330074  2001      buick     park avenue                  base    sedan   \n",
       "330075  2011        gmc         terrain                 sle-2      suv   \n",
       "330076  2012      acura              tl                  base    sedan   \n",
       "330077  2014       audi              a5  2.0t premium quattro    coupe   \n",
       "330078  2014  chevrolet  impala limited             ltz fleet    sedan   \n",
       "\n",
       "        transmission state  condition  odometer  color interior  \\\n",
       "0               True    ga        4.5    8232.0   gray    black   \n",
       "1               True    ca        3.2   59364.0    red    black   \n",
       "2               True    mo        4.0   30231.0  black    black   \n",
       "3               True    ca        2.0  291489.0  black    black   \n",
       "4               True    co        2.8   25291.0  white    black   \n",
       "...              ...   ...        ...       ...    ...      ...   \n",
       "330074          True    va        1.9  191168.0  white     gray   \n",
       "330075          True    tx        4.0   77530.0  black     gray   \n",
       "330076          True    il        4.4   40007.0  black    black   \n",
       "330077          True    nv        4.6   21721.0  white    black   \n",
       "330078          True    ca        1.0   13935.0  white    black   \n",
       "\n",
       "                                                   seller  sellingprice  \\\n",
       "0                                      nissan infiniti lt         23200   \n",
       "1                                      dtg operations inc          9000   \n",
       "2                                   ars/avis budget group         41000   \n",
       "3                                        hoehn motors inc          3500   \n",
       "4                             infiniti financial services         22400   \n",
       "...                                                   ...           ...   \n",
       "330074           don beyer volvo subaru kia of alexandria           600   \n",
       "330075                               hopper motorplex inc         13600   \n",
       "330076        ahfc/honda lease/trust/hvt, inc. eot acuras         19100   \n",
       "330077                                    autofinders inc         29750   \n",
       "330078  enterprise vehicle exchange / tra / rental / t...          7400   \n",
       "\n",
       "        month  day  dow  hour  sale_year  age       intense  \n",
       "0           3    3    1     1       2015    2   4116.000000  \n",
       "1           6   10    2     5       2015    2  29682.000000  \n",
       "2           2   17    1     3       2015    1  30231.000000  \n",
       "3           1    7    2    12       2015    9  32387.666667  \n",
       "4           2    4    2     4       2015    3   8430.333333  \n",
       "...       ...  ...  ...   ...        ...  ...           ...  \n",
       "330074      3    5    3     1       2015   14  13654.857143  \n",
       "330075      6   17    2     3       2015    4  19382.500000  \n",
       "330076      3    5    3     2       2015    3  13335.666667  \n",
       "330077      5   22    4     5       2015    1  21721.000000  \n",
       "330078      6    2    1     6       2015    1  13935.000000  \n",
       "\n",
       "[330079 rows x 20 columns]"
      ]
     },
     "execution_count": 75,
     "metadata": {},
     "output_type": "execute_result"
    }
   ],
   "source": [
    "df_train"
   ]
  },
  {
   "cell_type": "code",
   "execution_count": 76,
   "metadata": {},
   "outputs": [
    {
     "data": {
      "text/html": [
       "<div>\n",
       "<style scoped>\n",
       "    .dataframe tbody tr th:only-of-type {\n",
       "        vertical-align: middle;\n",
       "    }\n",
       "\n",
       "    .dataframe tbody tr th {\n",
       "        vertical-align: top;\n",
       "    }\n",
       "\n",
       "    .dataframe thead th {\n",
       "        text-align: right;\n",
       "    }\n",
       "</style>\n",
       "<table border=\"1\" class=\"dataframe\">\n",
       "  <thead>\n",
       "    <tr style=\"text-align: right;\">\n",
       "      <th></th>\n",
       "      <th>make</th>\n",
       "      <th>model</th>\n",
       "      <th>trim</th>\n",
       "      <th>body</th>\n",
       "      <th>state</th>\n",
       "      <th>condition</th>\n",
       "      <th>odometer</th>\n",
       "      <th>color</th>\n",
       "      <th>interior</th>\n",
       "      <th>seller</th>\n",
       "      <th>month</th>\n",
       "      <th>day</th>\n",
       "      <th>dow</th>\n",
       "      <th>age</th>\n",
       "    </tr>\n",
       "  </thead>\n",
       "  <tbody>\n",
       "    <tr>\n",
       "      <th>246048</th>\n",
       "      <td>infiniti</td>\n",
       "      <td>g sedan</td>\n",
       "      <td>g37x</td>\n",
       "      <td>g sedan</td>\n",
       "      <td>ga</td>\n",
       "      <td>4.5</td>\n",
       "      <td>8232.0</td>\n",
       "      <td>gray</td>\n",
       "      <td>black</td>\n",
       "      <td>nissan infiniti lt</td>\n",
       "      <td>3</td>\n",
       "      <td>3</td>\n",
       "      <td>1</td>\n",
       "      <td>2</td>\n",
       "    </tr>\n",
       "    <tr>\n",
       "      <th>427158</th>\n",
       "      <td>chevrolet</td>\n",
       "      <td>impala</td>\n",
       "      <td>ls fleet</td>\n",
       "      <td>sedan</td>\n",
       "      <td>ca</td>\n",
       "      <td>3.2</td>\n",
       "      <td>59364.0</td>\n",
       "      <td>red</td>\n",
       "      <td>black</td>\n",
       "      <td>dtg operations inc</td>\n",
       "      <td>6</td>\n",
       "      <td>10</td>\n",
       "      <td>2</td>\n",
       "      <td>2</td>\n",
       "    </tr>\n",
       "    <tr>\n",
       "      <th>24126</th>\n",
       "      <td>lincoln</td>\n",
       "      <td>navigator</td>\n",
       "      <td>base</td>\n",
       "      <td>suv</td>\n",
       "      <td>mo</td>\n",
       "      <td>4.0</td>\n",
       "      <td>30231.0</td>\n",
       "      <td>black</td>\n",
       "      <td>black</td>\n",
       "      <td>ars/avis budget group</td>\n",
       "      <td>2</td>\n",
       "      <td>17</td>\n",
       "      <td>1</td>\n",
       "      <td>1</td>\n",
       "    </tr>\n",
       "    <tr>\n",
       "      <th>393087</th>\n",
       "      <td>acura</td>\n",
       "      <td>tl</td>\n",
       "      <td>base</td>\n",
       "      <td>sedan</td>\n",
       "      <td>ca</td>\n",
       "      <td>2.0</td>\n",
       "      <td>291489.0</td>\n",
       "      <td>black</td>\n",
       "      <td>black</td>\n",
       "      <td>hoehn motors inc</td>\n",
       "      <td>1</td>\n",
       "      <td>7</td>\n",
       "      <td>2</td>\n",
       "      <td>9</td>\n",
       "    </tr>\n",
       "    <tr>\n",
       "      <th>387902</th>\n",
       "      <td>infiniti</td>\n",
       "      <td>g sedan</td>\n",
       "      <td>g37x</td>\n",
       "      <td>g sedan</td>\n",
       "      <td>co</td>\n",
       "      <td>2.8</td>\n",
       "      <td>25291.0</td>\n",
       "      <td>white</td>\n",
       "      <td>black</td>\n",
       "      <td>infiniti financial services</td>\n",
       "      <td>2</td>\n",
       "      <td>4</td>\n",
       "      <td>2</td>\n",
       "      <td>3</td>\n",
       "    </tr>\n",
       "    <tr>\n",
       "      <th>...</th>\n",
       "      <td>...</td>\n",
       "      <td>...</td>\n",
       "      <td>...</td>\n",
       "      <td>...</td>\n",
       "      <td>...</td>\n",
       "      <td>...</td>\n",
       "      <td>...</td>\n",
       "      <td>...</td>\n",
       "      <td>...</td>\n",
       "      <td>...</td>\n",
       "      <td>...</td>\n",
       "      <td>...</td>\n",
       "      <td>...</td>\n",
       "      <td>...</td>\n",
       "    </tr>\n",
       "    <tr>\n",
       "      <th>266178</th>\n",
       "      <td>buick</td>\n",
       "      <td>park avenue</td>\n",
       "      <td>base</td>\n",
       "      <td>sedan</td>\n",
       "      <td>va</td>\n",
       "      <td>1.9</td>\n",
       "      <td>191168.0</td>\n",
       "      <td>white</td>\n",
       "      <td>gray</td>\n",
       "      <td>don beyer volvo subaru kia of alexandria</td>\n",
       "      <td>3</td>\n",
       "      <td>5</td>\n",
       "      <td>3</td>\n",
       "      <td>14</td>\n",
       "    </tr>\n",
       "    <tr>\n",
       "      <th>139023</th>\n",
       "      <td>gmc</td>\n",
       "      <td>terrain</td>\n",
       "      <td>sle-2</td>\n",
       "      <td>suv</td>\n",
       "      <td>tx</td>\n",
       "      <td>4.0</td>\n",
       "      <td>77530.0</td>\n",
       "      <td>black</td>\n",
       "      <td>gray</td>\n",
       "      <td>hopper motorplex inc</td>\n",
       "      <td>6</td>\n",
       "      <td>17</td>\n",
       "      <td>2</td>\n",
       "      <td>4</td>\n",
       "    </tr>\n",
       "    <tr>\n",
       "      <th>58996</th>\n",
       "      <td>acura</td>\n",
       "      <td>tl</td>\n",
       "      <td>base</td>\n",
       "      <td>sedan</td>\n",
       "      <td>il</td>\n",
       "      <td>4.4</td>\n",
       "      <td>40007.0</td>\n",
       "      <td>black</td>\n",
       "      <td>black</td>\n",
       "      <td>ahfc/honda lease/trust/hvt, inc. eot acuras</td>\n",
       "      <td>3</td>\n",
       "      <td>5</td>\n",
       "      <td>3</td>\n",
       "      <td>3</td>\n",
       "    </tr>\n",
       "    <tr>\n",
       "      <th>264991</th>\n",
       "      <td>audi</td>\n",
       "      <td>a5</td>\n",
       "      <td>2.0t premium quattro</td>\n",
       "      <td>coupe</td>\n",
       "      <td>nv</td>\n",
       "      <td>4.6</td>\n",
       "      <td>21721.0</td>\n",
       "      <td>white</td>\n",
       "      <td>black</td>\n",
       "      <td>autofinders inc</td>\n",
       "      <td>5</td>\n",
       "      <td>22</td>\n",
       "      <td>4</td>\n",
       "      <td>1</td>\n",
       "    </tr>\n",
       "    <tr>\n",
       "      <th>190316</th>\n",
       "      <td>chevrolet</td>\n",
       "      <td>impala limited</td>\n",
       "      <td>ltz fleet</td>\n",
       "      <td>sedan</td>\n",
       "      <td>ca</td>\n",
       "      <td>1.0</td>\n",
       "      <td>13935.0</td>\n",
       "      <td>white</td>\n",
       "      <td>black</td>\n",
       "      <td>enterprise vehicle exchange / tra / rental / t...</td>\n",
       "      <td>6</td>\n",
       "      <td>2</td>\n",
       "      <td>1</td>\n",
       "      <td>1</td>\n",
       "    </tr>\n",
       "  </tbody>\n",
       "</table>\n",
       "<p>330079 rows × 14 columns</p>\n",
       "</div>"
      ],
      "text/plain": [
       "             make           model                  trim     body state  \\\n",
       "246048   infiniti         g sedan                  g37x  g sedan    ga   \n",
       "427158  chevrolet          impala              ls fleet    sedan    ca   \n",
       "24126     lincoln       navigator                  base      suv    mo   \n",
       "393087      acura              tl                  base    sedan    ca   \n",
       "387902   infiniti         g sedan                  g37x  g sedan    co   \n",
       "...           ...             ...                   ...      ...   ...   \n",
       "266178      buick     park avenue                  base    sedan    va   \n",
       "139023        gmc         terrain                 sle-2      suv    tx   \n",
       "58996       acura              tl                  base    sedan    il   \n",
       "264991       audi              a5  2.0t premium quattro    coupe    nv   \n",
       "190316  chevrolet  impala limited             ltz fleet    sedan    ca   \n",
       "\n",
       "        condition  odometer  color interior  \\\n",
       "246048        4.5    8232.0   gray    black   \n",
       "427158        3.2   59364.0    red    black   \n",
       "24126         4.0   30231.0  black    black   \n",
       "393087        2.0  291489.0  black    black   \n",
       "387902        2.8   25291.0  white    black   \n",
       "...           ...       ...    ...      ...   \n",
       "266178        1.9  191168.0  white     gray   \n",
       "139023        4.0   77530.0  black     gray   \n",
       "58996         4.4   40007.0  black    black   \n",
       "264991        4.6   21721.0  white    black   \n",
       "190316        1.0   13935.0  white    black   \n",
       "\n",
       "                                                   seller  month  day  dow  \\\n",
       "246048                                 nissan infiniti lt      3    3    1   \n",
       "427158                                 dtg operations inc      6   10    2   \n",
       "24126                               ars/avis budget group      2   17    1   \n",
       "393087                                   hoehn motors inc      1    7    2   \n",
       "387902                        infiniti financial services      2    4    2   \n",
       "...                                                   ...    ...  ...  ...   \n",
       "266178           don beyer volvo subaru kia of alexandria      3    5    3   \n",
       "139023                               hopper motorplex inc      6   17    2   \n",
       "58996         ahfc/honda lease/trust/hvt, inc. eot acuras      3    5    3   \n",
       "264991                                    autofinders inc      5   22    4   \n",
       "190316  enterprise vehicle exchange / tra / rental / t...      6    2    1   \n",
       "\n",
       "        age  \n",
       "246048    2  \n",
       "427158    2  \n",
       "24126     1  \n",
       "393087    9  \n",
       "387902    3  \n",
       "...     ...  \n",
       "266178   14  \n",
       "139023    4  \n",
       "58996     3  \n",
       "264991    1  \n",
       "190316    1  \n",
       "\n",
       "[330079 rows x 14 columns]"
      ]
     },
     "execution_count": 76,
     "metadata": {},
     "output_type": "execute_result"
    }
   ],
   "source": [
    "features"
   ]
  },
  {
   "cell_type": "code",
   "execution_count": 77,
   "metadata": {},
   "outputs": [],
   "source": [
    "cat_features = [0,1,2,3,4,7,8,9]"
   ]
  },
  {
   "cell_type": "code",
   "execution_count": 78,
   "metadata": {},
   "outputs": [],
   "source": [
    "def prepare_models(prices):\n",
    "    start_price = 0\n",
    "    models = []\n",
    "    prices.append(-1)\n",
    "    for end_price in prices:\n",
    "        df_train_current = df_train\n",
    "        if(end_price!=-1):\n",
    "            df_train_current = df_train_current.query('sellingprice>=@start_price and sellingprice < @end_price')\n",
    "        else:\n",
    "            df_train_current = df_train_current.query('sellingprice>=@start_price')\n",
    "        \n",
    "        model = CatBoostRegressor(random_seed=12345,thread_count=-1,learning_rate=0.145,n_estimators=1000,logging_level='Silent',cat_features=cat_features)\n",
    "        pipe_model = Pipeline(\n",
    "            steps=[\n",
    "                #('label',ct),\n",
    "                ('mymodel',model)\n",
    "            ]\n",
    "        )\n",
    "        start_price = end_price\n",
    "\n",
    "        features = df_train_current[features_list]\n",
    "        target = df_train_current[target_name]\n",
    "        pipe_model.fit(features,target)\n",
    "        print(f'{start_price} done')\n",
    "        models.append(pipe_model)\n",
    "    return models"
   ]
  },
  {
   "cell_type": "code",
   "execution_count": 78,
   "metadata": {},
   "outputs": [],
   "source": [
    "def apply_models(df,models):\n",
    "    features = df[features_list]\n",
    "    for index,m in enumerate(models):\n",
    "        df[f'model_{index}'] = m.predict(features)\n",
    "    return df"
   ]
  },
  {
   "cell_type": "code",
   "execution_count": 80,
   "metadata": {},
   "outputs": [
    {
     "name": "stdout",
     "output_type": "stream",
     "text": [
      "15000 done\n",
      "50000 done\n",
      "-1 done\n"
     ]
    }
   ],
   "source": [
    "models = prepare_models([15_000,50_000])"
   ]
  },
  {
   "cell_type": "code",
   "execution_count": 117,
   "metadata": {},
   "outputs": [],
   "source": [
    "df_train = apply_models(df_train,models)"
   ]
  },
  {
   "cell_type": "code",
   "execution_count": 82,
   "metadata": {},
   "outputs": [],
   "source": [
    "from sklearn.ensemble import HistGradientBoostingRegressor"
   ]
  },
  {
   "cell_type": "code",
   "execution_count": 104,
   "metadata": {},
   "outputs": [],
   "source": [
    "df_valid = apply_models(df_valid,models)"
   ]
  },
  {
   "cell_type": "code",
   "execution_count": 118,
   "metadata": {},
   "outputs": [
    {
     "name": "stdout",
     "output_type": "stream",
     "text": [
      "0:\tlearn: 6264.9903377\ttotal: 217ms\tremaining: 1m 48s\n",
      "10:\tlearn: 2424.8504348\ttotal: 2.62s\tremaining: 1m 56s\n",
      "20:\tlearn: 1523.8272830\ttotal: 4.99s\tremaining: 1m 53s\n",
      "30:\tlearn: 1317.6538188\ttotal: 7.29s\tremaining: 1m 50s\n",
      "40:\tlearn: 1266.0227618\ttotal: 9.82s\tremaining: 1m 49s\n",
      "50:\tlearn: 1239.8869036\ttotal: 12.4s\tremaining: 1m 49s\n",
      "60:\tlearn: 1221.6245875\ttotal: 15s\tremaining: 1m 47s\n",
      "70:\tlearn: 1209.2846687\ttotal: 17.6s\tremaining: 1m 46s\n",
      "80:\tlearn: 1200.7162682\ttotal: 20.6s\tremaining: 1m 46s\n",
      "90:\tlearn: 1193.0529165\ttotal: 23.4s\tremaining: 1m 45s\n",
      "100:\tlearn: 1186.4755958\ttotal: 25.8s\tremaining: 1m 41s\n",
      "110:\tlearn: 1178.3387692\ttotal: 28.7s\tremaining: 1m 40s\n",
      "120:\tlearn: 1173.9017305\ttotal: 31.5s\tremaining: 1m 38s\n",
      "130:\tlearn: 1167.1140419\ttotal: 34.7s\tremaining: 1m 37s\n",
      "140:\tlearn: 1159.9135299\ttotal: 37.4s\tremaining: 1m 35s\n",
      "150:\tlearn: 1154.8165258\ttotal: 40.2s\tremaining: 1m 32s\n",
      "160:\tlearn: 1151.2839041\ttotal: 42.7s\tremaining: 1m 29s\n",
      "170:\tlearn: 1148.2467721\ttotal: 45.8s\tremaining: 1m 28s\n",
      "180:\tlearn: 1145.8228875\ttotal: 48.7s\tremaining: 1m 25s\n",
      "190:\tlearn: 1143.7020242\ttotal: 51.5s\tremaining: 1m 23s\n",
      "200:\tlearn: 1141.0607188\ttotal: 54.5s\tremaining: 1m 21s\n",
      "210:\tlearn: 1138.5140432\ttotal: 57.3s\tremaining: 1m 18s\n",
      "220:\tlearn: 1135.3347160\ttotal: 1m\tremaining: 1m 15s\n",
      "230:\tlearn: 1133.4815434\ttotal: 1m 2s\tremaining: 1m 13s\n",
      "240:\tlearn: 1130.3080893\ttotal: 1m 5s\tremaining: 1m 10s\n",
      "250:\tlearn: 1128.1085508\ttotal: 1m 8s\tremaining: 1m 7s\n",
      "260:\tlearn: 1126.0679208\ttotal: 1m 11s\tremaining: 1m 5s\n",
      "270:\tlearn: 1124.0870922\ttotal: 1m 14s\tremaining: 1m 2s\n",
      "280:\tlearn: 1122.3806086\ttotal: 1m 17s\tremaining: 1m\n",
      "290:\tlearn: 1120.6584572\ttotal: 1m 19s\tremaining: 57.4s\n",
      "300:\tlearn: 1118.9105643\ttotal: 1m 22s\tremaining: 54.8s\n",
      "310:\tlearn: 1116.6958986\ttotal: 1m 25s\tremaining: 52s\n",
      "320:\tlearn: 1115.5410252\ttotal: 1m 28s\tremaining: 49.1s\n",
      "330:\tlearn: 1114.0962117\ttotal: 1m 30s\tremaining: 46.2s\n",
      "340:\tlearn: 1112.7173284\ttotal: 1m 33s\tremaining: 43.4s\n",
      "350:\tlearn: 1110.9370432\ttotal: 1m 36s\tremaining: 40.8s\n",
      "360:\tlearn: 1109.7318780\ttotal: 1m 39s\tremaining: 38.1s\n",
      "370:\tlearn: 1108.6974723\ttotal: 1m 41s\tremaining: 35.3s\n",
      "380:\tlearn: 1107.4246514\ttotal: 1m 44s\tremaining: 32.6s\n",
      "390:\tlearn: 1105.6937404\ttotal: 1m 47s\tremaining: 29.9s\n",
      "400:\tlearn: 1104.4157529\ttotal: 1m 49s\tremaining: 27.1s\n",
      "410:\tlearn: 1102.2991988\ttotal: 1m 52s\tremaining: 24.4s\n",
      "420:\tlearn: 1100.8730919\ttotal: 1m 55s\tremaining: 21.7s\n",
      "430:\tlearn: 1099.9066070\ttotal: 1m 58s\tremaining: 18.9s\n",
      "440:\tlearn: 1098.6048988\ttotal: 2m\tremaining: 16.2s\n",
      "450:\tlearn: 1097.6160093\ttotal: 2m 3s\tremaining: 13.4s\n",
      "460:\tlearn: 1096.4369048\ttotal: 2m 6s\tremaining: 10.7s\n",
      "470:\tlearn: 1095.0687531\ttotal: 2m 9s\tremaining: 7.96s\n",
      "480:\tlearn: 1093.3259963\ttotal: 2m 11s\tremaining: 5.21s\n",
      "490:\tlearn: 1092.4251584\ttotal: 2m 15s\tremaining: 2.48s\n",
      "499:\tlearn: 1091.7193558\ttotal: 2m 18s\tremaining: 0us\n",
      "done\n"
     ]
    }
   ],
   "source": [
    "features_list_final = list(df_train.columns)\n",
    "target_name = 'sellingprice'\n",
    "features_list_final.remove('year')\n",
    "features_list_final.remove('sale_year')\n",
    "features_list_final.remove('transmission')\n",
    "features_list_final.remove('hour')\n",
    "features_list_final.remove('intense')\n",
    "features_list_final.remove('sellingprice')\n",
    "\n",
    "\n",
    "\n",
    "\n",
    "final_model = CatBoostRegressor(random_state=12345,n_estimators=500,thread_count=-1,verbose=10,cat_features=cat_features,learning_rate=0.14,loss_function='MAE')\n",
    "\n",
    "pipe_model = Pipeline(\n",
    "    steps=[\n",
    "        #('label',ct),\n",
    "        ('mymodel',final_model)\n",
    "    ]\n",
    ")\n",
    "df_train_current = df_train\n",
    "features = df_train_current[features_list_final]\n",
    "target = df_train_current[target_name]\n",
    "pipe_model.fit(features,target)\n",
    "print('done')"
   ]
  },
  {
   "attachments": {},
   "cell_type": "markdown",
   "metadata": {},
   "source": [
    "Результаты на валидационной выборке"
   ]
  },
  {
   "cell_type": "code",
   "execution_count": 132,
   "metadata": {},
   "outputs": [
    {
     "name": "stdout",
     "output_type": "stream",
     "text": [
      "MAE:1144.944626174644\n",
      "MAPE:0.14404406999678232\n"
     ]
    }
   ],
   "source": [
    "features = df_valid[features_list_final]\n",
    "target = df_valid[target_name]\n",
    "predictions = final_model.predict(features)\n",
    "print(f'MAE:{mean_absolute_error(target,predictions)}')\n",
    "print(f'MAPE:{mean_absolute_percentage_error(target,predictions)}')"
   ]
  },
  {
   "attachments": {},
   "cell_type": "markdown",
   "metadata": {},
   "source": [
    "Сохраним модель"
   ]
  },
  {
   "cell_type": "code",
   "execution_count": 79,
   "metadata": {},
   "outputs": [],
   "source": [
    "import pickle"
   ]
  },
  {
   "cell_type": "code",
   "execution_count": 89,
   "metadata": {},
   "outputs": [],
   "source": [
    "final_models = models+[pipe_model]"
   ]
  },
  {
   "cell_type": "code",
   "execution_count": 92,
   "metadata": {},
   "outputs": [],
   "source": [
    "saved = {'models':final_models,'features':features_list,'features_final':features_list_final,'cat_features':cat_features}"
   ]
  },
  {
   "cell_type": "code",
   "execution_count": 93,
   "metadata": {},
   "outputs": [],
   "source": [
    "f = open('models.pkl','wb')\n",
    "pickle.dump(saved,f)"
   ]
  },
  {
   "attachments": {},
   "cell_type": "markdown",
   "metadata": {},
   "source": [
    "Как было отмечено ранее, низкая плотность объектов с высокой ценой приводит к увеличению дисперсии ошибки, соотвенственно и к увеличению средней ошибки"
   ]
  },
  {
   "cell_type": "code",
   "execution_count": 100,
   "metadata": {},
   "outputs": [
    {
     "name": "stdout",
     "output_type": "stream",
     "text": [
      "< 15_000 815.3405612220622\n"
     ]
    }
   ],
   "source": [
    "pipe_model = models[0]\n",
    "features = df_valid[features_list]\n",
    "target = df_valid[target_name]\n",
    "mask = target<15_000\n",
    "print(\"< 15_000\",mean_absolute_error(target[mask], pipe_model.predict(features[mask])))\n",
    "err_1 = target[mask]-pipe_model.predict(features[mask])"
   ]
  },
  {
   "cell_type": "code",
   "execution_count": 101,
   "metadata": {},
   "outputs": [
    {
     "name": "stdout",
     "output_type": "stream",
     "text": [
      "> 15_000 and < 50_000 1427.7244717271492\n"
     ]
    }
   ],
   "source": [
    "pipe_model = models[1]\n",
    "features = df_valid[features_list]\n",
    "target = df_valid[target_name]\n",
    "mask = (target>15_000) & (target < 50_000)\n",
    "print(\"> 15_000 and < 50_000\",mean_absolute_error(target[mask], pipe_model.predict(features[mask])))\n",
    "err_2 = target[mask]-pipe_model.predict(features[mask])"
   ]
  },
  {
   "cell_type": "code",
   "execution_count": 120,
   "metadata": {},
   "outputs": [
    {
     "name": "stdout",
     "output_type": "stream",
     "text": [
      "> 50_000 4650.1416647248525\n"
     ]
    }
   ],
   "source": [
    "pipe_model = models[2]\n",
    "features = df_valid[features_list]\n",
    "target = df_valid[target_name]\n",
    "mask = (target>50_000)\n",
    "print(\"> 50_000\",mean_absolute_error(target[mask], pipe_model.predict(features[mask])))\n",
    "err_3 = target[mask]-pipe_model.predict(features[mask])"
   ]
  },
  {
   "cell_type": "code",
   "execution_count": 121,
   "metadata": {},
   "outputs": [
    {
     "name": "stdout",
     "output_type": "stream",
     "text": [
      "1047.4439634655967\n"
     ]
    }
   ],
   "source": [
    "print((sum(abs(err_1))+sum(abs(err_2))+sum(abs(err_3)))/len(df_valid))"
   ]
  },
  {
   "attachments": {},
   "cell_type": "markdown",
   "metadata": {},
   "source": [
    "Посмотрим на график ошибки"
   ]
  },
  {
   "cell_type": "code",
   "execution_count": 133,
   "metadata": {},
   "outputs": [
    {
     "name": "stdout",
     "output_type": "stream",
     "text": [
      "1144.9446261746536\n"
     ]
    },
    {
     "data": {
      "text/plain": [
       "<AxesSubplot: xlabel='sellingprice', ylabel='sellingprice'>"
      ]
     },
     "execution_count": 133,
     "metadata": {},
     "output_type": "execute_result"
    },
    {
     "data": {
      "image/png": "[encoded data removed]",
      "text/plain": [
       "<Figure size 640x480 with 1 Axes>"
      ]
     },
     "metadata": {},
     "output_type": "display_data"
    }
   ],
   "source": [
    "df_valid = df_valid.reset_index(drop=True)\n",
    "features = df_valid[features_list_final]\n",
    "target = df_valid[target_name]\n",
    "predictions = final_model.predict(features)\n",
    "\n",
    "y_true = target\n",
    "y_pred = predictions\n",
    "\n",
    "err = y_true - y_pred\n",
    "print(sum(abs(err))/len(err))\n",
    "sns.scatterplot(x=y_true,y=err)"
   ]
  },
  {
   "attachments": {},
   "cell_type": "markdown",
   "metadata": {},
   "source": [
    "Коэффициент детерминации высокий, что может свидетельствовать о хорошей модели и еще раз подтвердить, что проблема в данных, а не в их подготовке"
   ]
  },
  {
   "cell_type": "code",
   "execution_count": 134,
   "metadata": {},
   "outputs": [
    {
     "name": "stdout",
     "output_type": "stream",
     "text": [
      "R2:0.9515971116841043\n"
     ]
    }
   ],
   "source": [
    "features = df_valid[features_list_final]\n",
    "target = df_valid[target_name]\n",
    "print(f'R2:{r2_score(target,final_model.predict(features))}')"
   ]
  },
  {
   "cell_type": "code",
   "execution_count": 135,
   "metadata": {},
   "outputs": [
    {
     "data": {
      "text/plain": [
       "['make',\n",
       " 'model',\n",
       " 'trim',\n",
       " 'body',\n",
       " 'state',\n",
       " 'condition',\n",
       " 'odometer',\n",
       " 'color',\n",
       " 'interior',\n",
       " 'seller',\n",
       " 'month',\n",
       " 'day',\n",
       " 'dow',\n",
       " 'age',\n",
       " 'model_0',\n",
       " 'model_1',\n",
       " 'model_2']"
      ]
     },
     "execution_count": 135,
     "metadata": {},
     "output_type": "execute_result"
    }
   ],
   "source": [
    "final_model.feature_names_"
   ]
  },
  {
   "cell_type": "code",
   "execution_count": 136,
   "metadata": {},
   "outputs": [],
   "source": [
    "def get_importance():\n",
    "    imp = []\n",
    "    for feat, importance in zip(final_model.feature_names_, final_model.get_feature_importance()):\n",
    "        feat = feat.replace('remainder__','')\n",
    "        feat = feat.replace('le__','')\n",
    "        imp.append([feat,importance])\n",
    "    return pd.DataFrame(data=imp,columns=['feature','importance'])"
   ]
  },
  {
   "cell_type": "code",
   "execution_count": 137,
   "metadata": {},
   "outputs": [
    {
     "data": {
      "image/png": "[encoded data removed]",
      "text/plain": [
       "<Figure size 640x480 with 1 Axes>"
      ]
     },
     "metadata": {},
     "output_type": "display_data"
    }
   ],
   "source": [
    "sns.barplot(data=get_importance().sort_values(by='importance',ascending=False),y='feature',x='importance',orient='h').set(title='Важность признаков');"
   ]
  },
  {
   "attachments": {},
   "cell_type": "markdown",
   "metadata": {},
   "source": [
    "Исходя из графика следует, что самыми важными признаками являются: модель, пройденное расстоние и возраст автомобиля. Меньше всего влияют на цену день недели покупки, цвет салона и автомобиля"
   ]
  },
  {
   "attachments": {},
   "cell_type": "markdown",
   "metadata": {},
   "source": [
    "Также можно убедиться в адекватности модели, сравнив предсказания с подстановкой среднего значения цены"
   ]
  },
  {
   "cell_type": "code",
   "execution_count": 138,
   "metadata": {},
   "outputs": [
    {
     "name": "stdout",
     "output_type": "stream",
     "text": [
      "MAE:7150.528833253822\n"
     ]
    }
   ],
   "source": [
    "features = df_valid[features_list]\n",
    "target = df_valid[target_name]\n",
    "target_train = df_train[target_name].mean()\n",
    "mean_val = [target_train.mean()]*len(target)\n",
    "print(f'MAE:{mean_absolute_error(target,mean_val)}')"
   ]
  },
  {
   "attachments": {},
   "cell_type": "markdown",
   "metadata": {},
   "source": [
    "Модель действительно предсказывает, а не угадывает. Ошибка модели более чем в 5 раз меньше, чем у среднего значения"
   ]
  },
  {
   "cell_type": "code",
   "execution_count": 140,
   "metadata": {},
   "outputs": [
    {
     "data": {
      "text/plain": [
       "0         17000\n",
       "1         15500\n",
       "2          9900\n",
       "3         11500\n",
       "4         19200\n",
       "          ...  \n",
       "110022    11200\n",
       "110023     1400\n",
       "110024    13100\n",
       "110025    38100\n",
       "110026    12000\n",
       "Name: sellingprice, Length: 110027, dtype: int64"
      ]
     },
     "execution_count": 140,
     "metadata": {},
     "output_type": "execute_result"
    }
   ],
   "source": [
    "df_valid['sellingprice']"
   ]
  },
  {
   "cell_type": "code",
   "execution_count": 141,
   "metadata": {},
   "outputs": [
    {
     "data": {
      "text/html": [
       "<div>\n",
       "<style scoped>\n",
       "    .dataframe tbody tr th:only-of-type {\n",
       "        vertical-align: middle;\n",
       "    }\n",
       "\n",
       "    .dataframe tbody tr th {\n",
       "        vertical-align: top;\n",
       "    }\n",
       "\n",
       "    .dataframe thead th {\n",
       "        text-align: right;\n",
       "    }\n",
       "</style>\n",
       "<table border=\"1\" class=\"dataframe\">\n",
       "  <thead>\n",
       "    <tr style=\"text-align: right;\">\n",
       "      <th></th>\n",
       "      <th>year</th>\n",
       "      <th>make</th>\n",
       "      <th>model</th>\n",
       "      <th>trim</th>\n",
       "      <th>body</th>\n",
       "      <th>transmission</th>\n",
       "      <th>state</th>\n",
       "      <th>condition</th>\n",
       "      <th>odometer</th>\n",
       "      <th>color</th>\n",
       "      <th>...</th>\n",
       "      <th>month</th>\n",
       "      <th>day</th>\n",
       "      <th>dow</th>\n",
       "      <th>hour</th>\n",
       "      <th>sale_year</th>\n",
       "      <th>age</th>\n",
       "      <th>intense</th>\n",
       "      <th>model_0</th>\n",
       "      <th>model_1</th>\n",
       "      <th>model_2</th>\n",
       "    </tr>\n",
       "  </thead>\n",
       "  <tbody>\n",
       "    <tr>\n",
       "      <th>0</th>\n",
       "      <td>2013</td>\n",
       "      <td>dodge</td>\n",
       "      <td>challenger</td>\n",
       "      <td>sxt</td>\n",
       "      <td>coupe</td>\n",
       "      <td>True</td>\n",
       "      <td>tx</td>\n",
       "      <td>3.8</td>\n",
       "      <td>31287.0</td>\n",
       "      <td>white</td>\n",
       "      <td>...</td>\n",
       "      <td>2</td>\n",
       "      <td>4</td>\n",
       "      <td>2</td>\n",
       "      <td>2</td>\n",
       "      <td>2015</td>\n",
       "      <td>2</td>\n",
       "      <td>15643.500000</td>\n",
       "      <td>14189.509581</td>\n",
       "      <td>18592.934231</td>\n",
       "      <td>62545.606230</td>\n",
       "    </tr>\n",
       "    <tr>\n",
       "      <th>1</th>\n",
       "      <td>2013</td>\n",
       "      <td>ford</td>\n",
       "      <td>fusion</td>\n",
       "      <td>se</td>\n",
       "      <td>sedan</td>\n",
       "      <td>True</td>\n",
       "      <td>ca</td>\n",
       "      <td>4.8</td>\n",
       "      <td>12563.0</td>\n",
       "      <td>black</td>\n",
       "      <td>...</td>\n",
       "      <td>12</td>\n",
       "      <td>18</td>\n",
       "      <td>3</td>\n",
       "      <td>12</td>\n",
       "      <td>2014</td>\n",
       "      <td>1</td>\n",
       "      <td>12563.000000</td>\n",
       "      <td>14757.684257</td>\n",
       "      <td>16642.636939</td>\n",
       "      <td>57872.738514</td>\n",
       "    </tr>\n",
       "    <tr>\n",
       "      <th>2</th>\n",
       "      <td>2014</td>\n",
       "      <td>kia</td>\n",
       "      <td>rio</td>\n",
       "      <td>lx</td>\n",
       "      <td>sedan</td>\n",
       "      <td>True</td>\n",
       "      <td>ga</td>\n",
       "      <td>4.1</td>\n",
       "      <td>23664.0</td>\n",
       "      <td>black</td>\n",
       "      <td>...</td>\n",
       "      <td>6</td>\n",
       "      <td>18</td>\n",
       "      <td>3</td>\n",
       "      <td>3</td>\n",
       "      <td>2015</td>\n",
       "      <td>1</td>\n",
       "      <td>23664.000000</td>\n",
       "      <td>10064.859406</td>\n",
       "      <td>15713.182142</td>\n",
       "      <td>61925.446741</td>\n",
       "    </tr>\n",
       "    <tr>\n",
       "      <th>3</th>\n",
       "      <td>2012</td>\n",
       "      <td>hyundai</td>\n",
       "      <td>sonata</td>\n",
       "      <td>gls</td>\n",
       "      <td>sedan</td>\n",
       "      <td>True</td>\n",
       "      <td>oh</td>\n",
       "      <td>4.3</td>\n",
       "      <td>34497.0</td>\n",
       "      <td>gray</td>\n",
       "      <td>...</td>\n",
       "      <td>2</td>\n",
       "      <td>24</td>\n",
       "      <td>1</td>\n",
       "      <td>1</td>\n",
       "      <td>2015</td>\n",
       "      <td>3</td>\n",
       "      <td>11499.000000</td>\n",
       "      <td>12093.563758</td>\n",
       "      <td>15733.558901</td>\n",
       "      <td>59516.685299</td>\n",
       "    </tr>\n",
       "    <tr>\n",
       "      <th>4</th>\n",
       "      <td>2015</td>\n",
       "      <td>kia</td>\n",
       "      <td>sportage</td>\n",
       "      <td>lx</td>\n",
       "      <td>suv</td>\n",
       "      <td>False</td>\n",
       "      <td>pa</td>\n",
       "      <td>4.9</td>\n",
       "      <td>9222.0</td>\n",
       "      <td>brown</td>\n",
       "      <td>...</td>\n",
       "      <td>5</td>\n",
       "      <td>22</td>\n",
       "      <td>4</td>\n",
       "      <td>2</td>\n",
       "      <td>2015</td>\n",
       "      <td>0</td>\n",
       "      <td>9222.000000</td>\n",
       "      <td>15479.699785</td>\n",
       "      <td>17955.246430</td>\n",
       "      <td>62890.655446</td>\n",
       "    </tr>\n",
       "    <tr>\n",
       "      <th>...</th>\n",
       "      <td>...</td>\n",
       "      <td>...</td>\n",
       "      <td>...</td>\n",
       "      <td>...</td>\n",
       "      <td>...</td>\n",
       "      <td>...</td>\n",
       "      <td>...</td>\n",
       "      <td>...</td>\n",
       "      <td>...</td>\n",
       "      <td>...</td>\n",
       "      <td>...</td>\n",
       "      <td>...</td>\n",
       "      <td>...</td>\n",
       "      <td>...</td>\n",
       "      <td>...</td>\n",
       "      <td>...</td>\n",
       "      <td>...</td>\n",
       "      <td>...</td>\n",
       "      <td>...</td>\n",
       "      <td>...</td>\n",
       "      <td>...</td>\n",
       "    </tr>\n",
       "    <tr>\n",
       "      <th>110022</th>\n",
       "      <td>2012</td>\n",
       "      <td>nissan</td>\n",
       "      <td>altima</td>\n",
       "      <td>2.5 s</td>\n",
       "      <td>sedan</td>\n",
       "      <td>True</td>\n",
       "      <td>il</td>\n",
       "      <td>2.8</td>\n",
       "      <td>23638.0</td>\n",
       "      <td>gray</td>\n",
       "      <td>...</td>\n",
       "      <td>1</td>\n",
       "      <td>22</td>\n",
       "      <td>3</td>\n",
       "      <td>2</td>\n",
       "      <td>2015</td>\n",
       "      <td>3</td>\n",
       "      <td>7879.333333</td>\n",
       "      <td>11893.273930</td>\n",
       "      <td>15526.454575</td>\n",
       "      <td>52804.950655</td>\n",
       "    </tr>\n",
       "    <tr>\n",
       "      <th>110023</th>\n",
       "      <td>2004</td>\n",
       "      <td>chrysler</td>\n",
       "      <td>sebring</td>\n",
       "      <td>touring</td>\n",
       "      <td>sedan</td>\n",
       "      <td>True</td>\n",
       "      <td>ga</td>\n",
       "      <td>1.9</td>\n",
       "      <td>173379.0</td>\n",
       "      <td>silver</td>\n",
       "      <td>...</td>\n",
       "      <td>5</td>\n",
       "      <td>28</td>\n",
       "      <td>3</td>\n",
       "      <td>3</td>\n",
       "      <td>2015</td>\n",
       "      <td>11</td>\n",
       "      <td>15761.727273</td>\n",
       "      <td>1096.595232</td>\n",
       "      <td>15282.582724</td>\n",
       "      <td>52827.519782</td>\n",
       "    </tr>\n",
       "    <tr>\n",
       "      <th>110024</th>\n",
       "      <td>2012</td>\n",
       "      <td>nissan</td>\n",
       "      <td>altima</td>\n",
       "      <td>2.5 s</td>\n",
       "      <td>sedan</td>\n",
       "      <td>True</td>\n",
       "      <td>mo</td>\n",
       "      <td>3.9</td>\n",
       "      <td>46335.0</td>\n",
       "      <td>blue</td>\n",
       "      <td>...</td>\n",
       "      <td>1</td>\n",
       "      <td>21</td>\n",
       "      <td>2</td>\n",
       "      <td>2</td>\n",
       "      <td>2015</td>\n",
       "      <td>3</td>\n",
       "      <td>15445.000000</td>\n",
       "      <td>11800.867699</td>\n",
       "      <td>15032.992969</td>\n",
       "      <td>49987.231390</td>\n",
       "    </tr>\n",
       "    <tr>\n",
       "      <th>110025</th>\n",
       "      <td>2009</td>\n",
       "      <td>mercedes-benz</td>\n",
       "      <td>sl-class</td>\n",
       "      <td>sl550</td>\n",
       "      <td>convertible</td>\n",
       "      <td>True</td>\n",
       "      <td>fl</td>\n",
       "      <td>5.0</td>\n",
       "      <td>44940.0</td>\n",
       "      <td>black</td>\n",
       "      <td>...</td>\n",
       "      <td>6</td>\n",
       "      <td>2</td>\n",
       "      <td>1</td>\n",
       "      <td>2</td>\n",
       "      <td>2015</td>\n",
       "      <td>6</td>\n",
       "      <td>7490.000000</td>\n",
       "      <td>15890.516597</td>\n",
       "      <td>38202.482166</td>\n",
       "      <td>50772.038442</td>\n",
       "    </tr>\n",
       "    <tr>\n",
       "      <th>110026</th>\n",
       "      <td>2012</td>\n",
       "      <td>kia</td>\n",
       "      <td>optima</td>\n",
       "      <td>hybrid</td>\n",
       "      <td>sedan</td>\n",
       "      <td>True</td>\n",
       "      <td>ca</td>\n",
       "      <td>2.7</td>\n",
       "      <td>29820.0</td>\n",
       "      <td>black</td>\n",
       "      <td>...</td>\n",
       "      <td>5</td>\n",
       "      <td>28</td>\n",
       "      <td>3</td>\n",
       "      <td>5</td>\n",
       "      <td>2015</td>\n",
       "      <td>3</td>\n",
       "      <td>9940.000000</td>\n",
       "      <td>13044.855796</td>\n",
       "      <td>15924.326846</td>\n",
       "      <td>79566.648279</td>\n",
       "    </tr>\n",
       "  </tbody>\n",
       "</table>\n",
       "<p>110027 rows × 23 columns</p>\n",
       "</div>"
      ],
      "text/plain": [
       "        year           make       model     trim         body  transmission  \\\n",
       "0       2013          dodge  challenger      sxt        coupe          True   \n",
       "1       2013           ford      fusion       se        sedan          True   \n",
       "2       2014            kia         rio       lx        sedan          True   \n",
       "3       2012        hyundai      sonata      gls        sedan          True   \n",
       "4       2015            kia    sportage       lx          suv         False   \n",
       "...      ...            ...         ...      ...          ...           ...   \n",
       "110022  2012         nissan      altima    2.5 s        sedan          True   \n",
       "110023  2004       chrysler     sebring  touring        sedan          True   \n",
       "110024  2012         nissan      altima    2.5 s        sedan          True   \n",
       "110025  2009  mercedes-benz    sl-class    sl550  convertible          True   \n",
       "110026  2012            kia      optima   hybrid        sedan          True   \n",
       "\n",
       "       state  condition  odometer   color  ... month day  dow  hour  \\\n",
       "0         tx        3.8   31287.0   white  ...     2   4    2     2   \n",
       "1         ca        4.8   12563.0   black  ...    12  18    3    12   \n",
       "2         ga        4.1   23664.0   black  ...     6  18    3     3   \n",
       "3         oh        4.3   34497.0    gray  ...     2  24    1     1   \n",
       "4         pa        4.9    9222.0   brown  ...     5  22    4     2   \n",
       "...      ...        ...       ...     ...  ...   ...  ..  ...   ...   \n",
       "110022    il        2.8   23638.0    gray  ...     1  22    3     2   \n",
       "110023    ga        1.9  173379.0  silver  ...     5  28    3     3   \n",
       "110024    mo        3.9   46335.0    blue  ...     1  21    2     2   \n",
       "110025    fl        5.0   44940.0   black  ...     6   2    1     2   \n",
       "110026    ca        2.7   29820.0   black  ...     5  28    3     5   \n",
       "\n",
       "        sale_year  age       intense       model_0       model_1       model_2  \n",
       "0            2015    2  15643.500000  14189.509581  18592.934231  62545.606230  \n",
       "1            2014    1  12563.000000  14757.684257  16642.636939  57872.738514  \n",
       "2            2015    1  23664.000000  10064.859406  15713.182142  61925.446741  \n",
       "3            2015    3  11499.000000  12093.563758  15733.558901  59516.685299  \n",
       "4            2015    0   9222.000000  15479.699785  17955.246430  62890.655446  \n",
       "...           ...  ...           ...           ...           ...           ...  \n",
       "110022       2015    3   7879.333333  11893.273930  15526.454575  52804.950655  \n",
       "110023       2015   11  15761.727273   1096.595232  15282.582724  52827.519782  \n",
       "110024       2015    3  15445.000000  11800.867699  15032.992969  49987.231390  \n",
       "110025       2015    6   7490.000000  15890.516597  38202.482166  50772.038442  \n",
       "110026       2015    3   9940.000000  13044.855796  15924.326846  79566.648279  \n",
       "\n",
       "[110027 rows x 23 columns]"
      ]
     },
     "execution_count": 141,
     "metadata": {},
     "output_type": "execute_result"
    }
   ],
   "source": [
    "df_valid"
   ]
  },
  {
   "cell_type": "code",
   "execution_count": 143,
   "metadata": {},
   "outputs": [
    {
     "data": {
      "text/plain": [
       "0                         tdaf remarketing\n",
       "1         ford motor credit company,llc pd\n",
       "2                       kia motors finance\n",
       "3                    hyundai motor finance\n",
       "4          avis rent a car/barbush rentals\n",
       "                        ...               \n",
       "110022                  nissan-infiniti lt\n",
       "110023          automobile acceptance corp\n",
       "110024                  nissan-infiniti lt\n",
       "110025                        cire leasing\n",
       "110026            jpmorgan chase bank,n.a.\n",
       "Name: seller, Length: 110027, dtype: object"
      ]
     },
     "execution_count": 143,
     "metadata": {},
     "output_type": "execute_result"
    }
   ],
   "source": [
    "df_valid['seller']"
   ]
  },
  {
   "cell_type": "code",
   "execution_count": 147,
   "metadata": {},
   "outputs": [
    {
     "data": {
      "text/html": [
       "<div>\n",
       "<style scoped>\n",
       "    .dataframe tbody tr th:only-of-type {\n",
       "        vertical-align: middle;\n",
       "    }\n",
       "\n",
       "    .dataframe tbody tr th {\n",
       "        vertical-align: top;\n",
       "    }\n",
       "\n",
       "    .dataframe thead th {\n",
       "        text-align: right;\n",
       "    }\n",
       "</style>\n",
       "<table border=\"1\" class=\"dataframe\">\n",
       "  <thead>\n",
       "    <tr style=\"text-align: right;\">\n",
       "      <th></th>\n",
       "      <th>make</th>\n",
       "      <th>model</th>\n",
       "      <th>trim</th>\n",
       "      <th>body</th>\n",
       "      <th>state</th>\n",
       "      <th>condition</th>\n",
       "      <th>odometer</th>\n",
       "      <th>color</th>\n",
       "      <th>interior</th>\n",
       "      <th>seller</th>\n",
       "      <th>month</th>\n",
       "      <th>day</th>\n",
       "      <th>dow</th>\n",
       "      <th>age</th>\n",
       "    </tr>\n",
       "  </thead>\n",
       "  <tbody>\n",
       "    <tr>\n",
       "      <th>0</th>\n",
       "      <td>dodge</td>\n",
       "      <td>challenger</td>\n",
       "      <td>sxt</td>\n",
       "      <td>coupe</td>\n",
       "      <td>tx</td>\n",
       "      <td>3.8</td>\n",
       "      <td>31287.0</td>\n",
       "      <td>white</td>\n",
       "      <td>black</td>\n",
       "      <td>tdaf remarketing</td>\n",
       "      <td>2</td>\n",
       "      <td>4</td>\n",
       "      <td>2</td>\n",
       "      <td>2</td>\n",
       "    </tr>\n",
       "    <tr>\n",
       "      <th>1</th>\n",
       "      <td>ford</td>\n",
       "      <td>fusion</td>\n",
       "      <td>se</td>\n",
       "      <td>sedan</td>\n",
       "      <td>ca</td>\n",
       "      <td>4.8</td>\n",
       "      <td>12563.0</td>\n",
       "      <td>black</td>\n",
       "      <td>black</td>\n",
       "      <td>ford motor credit company,llc pd</td>\n",
       "      <td>12</td>\n",
       "      <td>18</td>\n",
       "      <td>3</td>\n",
       "      <td>1</td>\n",
       "    </tr>\n",
       "    <tr>\n",
       "      <th>2</th>\n",
       "      <td>kia</td>\n",
       "      <td>rio</td>\n",
       "      <td>lx</td>\n",
       "      <td>sedan</td>\n",
       "      <td>ga</td>\n",
       "      <td>4.1</td>\n",
       "      <td>23664.0</td>\n",
       "      <td>black</td>\n",
       "      <td>tan</td>\n",
       "      <td>kia motors finance</td>\n",
       "      <td>6</td>\n",
       "      <td>18</td>\n",
       "      <td>3</td>\n",
       "      <td>1</td>\n",
       "    </tr>\n",
       "    <tr>\n",
       "      <th>3</th>\n",
       "      <td>hyundai</td>\n",
       "      <td>sonata</td>\n",
       "      <td>gls</td>\n",
       "      <td>sedan</td>\n",
       "      <td>oh</td>\n",
       "      <td>4.3</td>\n",
       "      <td>34497.0</td>\n",
       "      <td>gray</td>\n",
       "      <td>gray</td>\n",
       "      <td>hyundai motor finance</td>\n",
       "      <td>2</td>\n",
       "      <td>24</td>\n",
       "      <td>1</td>\n",
       "      <td>3</td>\n",
       "    </tr>\n",
       "    <tr>\n",
       "      <th>4</th>\n",
       "      <td>kia</td>\n",
       "      <td>sportage</td>\n",
       "      <td>lx</td>\n",
       "      <td>suv</td>\n",
       "      <td>pa</td>\n",
       "      <td>4.9</td>\n",
       "      <td>9222.0</td>\n",
       "      <td>brown</td>\n",
       "      <td>gray</td>\n",
       "      <td>avis rent a car/barbush rentals</td>\n",
       "      <td>5</td>\n",
       "      <td>22</td>\n",
       "      <td>4</td>\n",
       "      <td>0</td>\n",
       "    </tr>\n",
       "    <tr>\n",
       "      <th>...</th>\n",
       "      <td>...</td>\n",
       "      <td>...</td>\n",
       "      <td>...</td>\n",
       "      <td>...</td>\n",
       "      <td>...</td>\n",
       "      <td>...</td>\n",
       "      <td>...</td>\n",
       "      <td>...</td>\n",
       "      <td>...</td>\n",
       "      <td>...</td>\n",
       "      <td>...</td>\n",
       "      <td>...</td>\n",
       "      <td>...</td>\n",
       "      <td>...</td>\n",
       "    </tr>\n",
       "    <tr>\n",
       "      <th>110022</th>\n",
       "      <td>nissan</td>\n",
       "      <td>altima</td>\n",
       "      <td>2.5 s</td>\n",
       "      <td>sedan</td>\n",
       "      <td>il</td>\n",
       "      <td>2.8</td>\n",
       "      <td>23638.0</td>\n",
       "      <td>gray</td>\n",
       "      <td>black</td>\n",
       "      <td>nissan-infiniti lt</td>\n",
       "      <td>1</td>\n",
       "      <td>22</td>\n",
       "      <td>3</td>\n",
       "      <td>3</td>\n",
       "    </tr>\n",
       "    <tr>\n",
       "      <th>110023</th>\n",
       "      <td>chrysler</td>\n",
       "      <td>sebring</td>\n",
       "      <td>touring</td>\n",
       "      <td>sedan</td>\n",
       "      <td>ga</td>\n",
       "      <td>1.9</td>\n",
       "      <td>173379.0</td>\n",
       "      <td>silver</td>\n",
       "      <td>black</td>\n",
       "      <td>automobile acceptance corp</td>\n",
       "      <td>5</td>\n",
       "      <td>28</td>\n",
       "      <td>3</td>\n",
       "      <td>11</td>\n",
       "    </tr>\n",
       "    <tr>\n",
       "      <th>110024</th>\n",
       "      <td>nissan</td>\n",
       "      <td>altima</td>\n",
       "      <td>2.5 s</td>\n",
       "      <td>sedan</td>\n",
       "      <td>mo</td>\n",
       "      <td>3.9</td>\n",
       "      <td>46335.0</td>\n",
       "      <td>blue</td>\n",
       "      <td>black</td>\n",
       "      <td>nissan-infiniti lt</td>\n",
       "      <td>1</td>\n",
       "      <td>21</td>\n",
       "      <td>2</td>\n",
       "      <td>3</td>\n",
       "    </tr>\n",
       "    <tr>\n",
       "      <th>110025</th>\n",
       "      <td>mercedes-benz</td>\n",
       "      <td>sl-class</td>\n",
       "      <td>sl550</td>\n",
       "      <td>convertible</td>\n",
       "      <td>fl</td>\n",
       "      <td>5.0</td>\n",
       "      <td>44940.0</td>\n",
       "      <td>black</td>\n",
       "      <td>black</td>\n",
       "      <td>cire leasing</td>\n",
       "      <td>6</td>\n",
       "      <td>2</td>\n",
       "      <td>1</td>\n",
       "      <td>6</td>\n",
       "    </tr>\n",
       "    <tr>\n",
       "      <th>110026</th>\n",
       "      <td>kia</td>\n",
       "      <td>optima</td>\n",
       "      <td>hybrid</td>\n",
       "      <td>sedan</td>\n",
       "      <td>ca</td>\n",
       "      <td>2.7</td>\n",
       "      <td>29820.0</td>\n",
       "      <td>black</td>\n",
       "      <td>tan</td>\n",
       "      <td>jpmorgan chase bank,n.a.</td>\n",
       "      <td>5</td>\n",
       "      <td>28</td>\n",
       "      <td>3</td>\n",
       "      <td>3</td>\n",
       "    </tr>\n",
       "  </tbody>\n",
       "</table>\n",
       "<p>110027 rows × 14 columns</p>\n",
       "</div>"
      ],
      "text/plain": [
       "                 make       model     trim         body state  condition  \\\n",
       "0               dodge  challenger      sxt        coupe    tx        3.8   \n",
       "1                ford      fusion       se        sedan    ca        4.8   \n",
       "2                 kia         rio       lx        sedan    ga        4.1   \n",
       "3             hyundai      sonata      gls        sedan    oh        4.3   \n",
       "4                 kia    sportage       lx          suv    pa        4.9   \n",
       "...               ...         ...      ...          ...   ...        ...   \n",
       "110022         nissan      altima    2.5 s        sedan    il        2.8   \n",
       "110023       chrysler     sebring  touring        sedan    ga        1.9   \n",
       "110024         nissan      altima    2.5 s        sedan    mo        3.9   \n",
       "110025  mercedes-benz    sl-class    sl550  convertible    fl        5.0   \n",
       "110026            kia      optima   hybrid        sedan    ca        2.7   \n",
       "\n",
       "        odometer   color interior                            seller  month  \\\n",
       "0        31287.0   white    black                  tdaf remarketing      2   \n",
       "1        12563.0   black    black  ford motor credit company,llc pd     12   \n",
       "2        23664.0   black      tan                kia motors finance      6   \n",
       "3        34497.0    gray     gray             hyundai motor finance      2   \n",
       "4         9222.0   brown     gray   avis rent a car/barbush rentals      5   \n",
       "...          ...     ...      ...                               ...    ...   \n",
       "110022   23638.0    gray    black                nissan-infiniti lt      1   \n",
       "110023  173379.0  silver    black        automobile acceptance corp      5   \n",
       "110024   46335.0    blue    black                nissan-infiniti lt      1   \n",
       "110025   44940.0   black    black                      cire leasing      6   \n",
       "110026   29820.0   black      tan          jpmorgan chase bank,n.a.      5   \n",
       "\n",
       "        day  dow  age  \n",
       "0         4    2    2  \n",
       "1        18    3    1  \n",
       "2        18    3    1  \n",
       "3        24    1    3  \n",
       "4        22    4    0  \n",
       "...     ...  ...  ...  \n",
       "110022   22    3    3  \n",
       "110023   28    3   11  \n",
       "110024   21    2    3  \n",
       "110025    2    1    6  \n",
       "110026   28    3    3  \n",
       "\n",
       "[110027 rows x 14 columns]"
      ]
     },
     "execution_count": 147,
     "metadata": {},
     "output_type": "execute_result"
    }
   ],
   "source": [
    "features"
   ]
  }
 ],
 "metadata": {
  "kernelspec": {
   "display_name": "Python 3",
   "language": "python",
   "name": "python3"
  },
  "language_info": {
   "codemirror_mode": {
    "name": "ipython",
    "version": 3
   },
   "file_extension": ".py",
   "mimetype": "text/x-python",
   "name": "python",
   "nbconvert_exporter": "python",
   "pygments_lexer": "ipython3",
   "version": "3.10.8"
  },
  "orig_nbformat": 4
 },
 "nbformat": 4,
 "nbformat_minor": 2
}
